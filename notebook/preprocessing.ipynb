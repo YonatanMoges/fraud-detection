{
 "cells": [
  {
   "cell_type": "code",
   "execution_count": 1,
   "metadata": {},
   "outputs": [],
   "source": [
    "# Import necessary libraries\n",
    "import os\n",
    "\n",
    "# Import Custom Modules\n",
    "import sys\n",
    "sys.path.append('../scripts') \n",
    "\n",
    "from preprocessing import FraudPreprocessing"
   ]
  },
  {
   "cell_type": "code",
   "execution_count": 2,
   "metadata": {},
   "outputs": [],
   "source": [
    "# Import data\n",
    "fraud_data_path = \"../data/Fraud_Data.csv\"\n",
    "ip_data_path = \"../data/IpAddress_to_Country.csv\"\n",
    "credit_data_path = \"../data/creditcard.csv\""
   ]
  },
  {
   "cell_type": "code",
   "execution_count": 3,
   "metadata": {},
   "outputs": [],
   "source": [
    "# Instantiate the class\n",
    "preprocessor = FraudPreprocessing(fraud_data_path, ip_data_path, credit_data_path)"
   ]
  },
  {
   "cell_type": "markdown",
   "metadata": {},
   "source": [
    "Handle Missing Values"
   ]
  },
  {
   "cell_type": "code",
   "execution_count": 4,
   "metadata": {},
   "outputs": [],
   "source": [
    "preprocessor.handle_missing_values()"
   ]
  },
  {
   "cell_type": "markdown",
   "metadata": {},
   "source": [
    "Data Cleaning"
   ]
  },
  {
   "cell_type": "code",
   "execution_count": 5,
   "metadata": {},
   "outputs": [
    {
     "ename": "KeyboardInterrupt",
     "evalue": "",
     "output_type": "error",
     "traceback": [
      "\u001b[1;31m---------------------------------------------------------------------------\u001b[0m",
      "\u001b[1;31mKeyboardInterrupt\u001b[0m                         Traceback (most recent call last)",
      "Cell \u001b[1;32mIn[5], line 1\u001b[0m\n\u001b[1;32m----> 1\u001b[0m \u001b[43mpreprocessor\u001b[49m\u001b[38;5;241;43m.\u001b[39;49m\u001b[43mdata_cleaning\u001b[49m\u001b[43m(\u001b[49m\u001b[43m)\u001b[49m\n",
      "File \u001b[1;32mc:\\Users\\HP\\Desktop\\TenX\\fraud-detection\\scripts\\preprocessing.py:23\u001b[0m, in \u001b[0;36mFraudPreprocessing.data_cleaning\u001b[1;34m(self)\u001b[0m\n\u001b[0;32m     20\u001b[0m \u001b[38;5;28;01mdef\u001b[39;00m \u001b[38;5;21mdata_cleaning\u001b[39m(\u001b[38;5;28mself\u001b[39m):\n\u001b[0;32m     21\u001b[0m     \u001b[38;5;66;03m# Remove duplicates and correct data types\u001b[39;00m\n\u001b[0;32m     22\u001b[0m     \u001b[38;5;28mself\u001b[39m\u001b[38;5;241m.\u001b[39mfraud_data\u001b[38;5;241m.\u001b[39mdrop_duplicates(inplace\u001b[38;5;241m=\u001b[39m\u001b[38;5;28;01mTrue\u001b[39;00m)\n\u001b[1;32m---> 23\u001b[0m     \u001b[38;5;28;43mself\u001b[39;49m\u001b[38;5;241;43m.\u001b[39;49m\u001b[43mcredit_data\u001b[49m\u001b[38;5;241;43m.\u001b[39;49m\u001b[43mdrop_duplicates\u001b[49m\u001b[43m(\u001b[49m\u001b[43minplace\u001b[49m\u001b[38;5;241;43m=\u001b[39;49m\u001b[38;5;28;43;01mTrue\u001b[39;49;00m\u001b[43m)\u001b[49m\n\u001b[0;32m     25\u001b[0m     \u001b[38;5;66;03m# Convert datetime fields\u001b[39;00m\n\u001b[0;32m     26\u001b[0m     \u001b[38;5;28mself\u001b[39m\u001b[38;5;241m.\u001b[39mfraud_data[\u001b[38;5;124m'\u001b[39m\u001b[38;5;124msignup_time\u001b[39m\u001b[38;5;124m'\u001b[39m] \u001b[38;5;241m=\u001b[39m pd\u001b[38;5;241m.\u001b[39mto_datetime(\u001b[38;5;28mself\u001b[39m\u001b[38;5;241m.\u001b[39mfraud_data[\u001b[38;5;124m'\u001b[39m\u001b[38;5;124msignup_time\u001b[39m\u001b[38;5;124m'\u001b[39m])\n",
      "File \u001b[1;32mc:\\Users\\HP\\Desktop\\TenX\\fraud-detection\\myenv\\lib\\site-packages\\pandas\\core\\frame.py:6818\u001b[0m, in \u001b[0;36mDataFrame.drop_duplicates\u001b[1;34m(self, subset, keep, inplace, ignore_index)\u001b[0m\n\u001b[0;32m   6815\u001b[0m inplace \u001b[38;5;241m=\u001b[39m validate_bool_kwarg(inplace, \u001b[38;5;124m\"\u001b[39m\u001b[38;5;124minplace\u001b[39m\u001b[38;5;124m\"\u001b[39m)\n\u001b[0;32m   6816\u001b[0m ignore_index \u001b[38;5;241m=\u001b[39m validate_bool_kwarg(ignore_index, \u001b[38;5;124m\"\u001b[39m\u001b[38;5;124mignore_index\u001b[39m\u001b[38;5;124m\"\u001b[39m)\n\u001b[1;32m-> 6818\u001b[0m result \u001b[38;5;241m=\u001b[39m \u001b[38;5;28mself\u001b[39m[\u001b[38;5;241m-\u001b[39m\u001b[38;5;28;43mself\u001b[39;49m\u001b[38;5;241;43m.\u001b[39;49m\u001b[43mduplicated\u001b[49m\u001b[43m(\u001b[49m\u001b[43msubset\u001b[49m\u001b[43m,\u001b[49m\u001b[43m \u001b[49m\u001b[43mkeep\u001b[49m\u001b[38;5;241;43m=\u001b[39;49m\u001b[43mkeep\u001b[49m\u001b[43m)\u001b[49m]\n\u001b[0;32m   6819\u001b[0m \u001b[38;5;28;01mif\u001b[39;00m ignore_index:\n\u001b[0;32m   6820\u001b[0m     result\u001b[38;5;241m.\u001b[39mindex \u001b[38;5;241m=\u001b[39m default_index(\u001b[38;5;28mlen\u001b[39m(result))\n",
      "File \u001b[1;32mc:\\Users\\HP\\Desktop\\TenX\\fraud-detection\\myenv\\lib\\site-packages\\pandas\\core\\frame.py:6960\u001b[0m, in \u001b[0;36mDataFrame.duplicated\u001b[1;34m(self, subset, keep)\u001b[0m\n\u001b[0;32m   6957\u001b[0m     vals \u001b[38;5;241m=\u001b[39m (col\u001b[38;5;241m.\u001b[39mvalues \u001b[38;5;28;01mfor\u001b[39;00m name, col \u001b[38;5;129;01min\u001b[39;00m \u001b[38;5;28mself\u001b[39m\u001b[38;5;241m.\u001b[39mitems() \u001b[38;5;28;01mif\u001b[39;00m name \u001b[38;5;129;01min\u001b[39;00m subset)\n\u001b[0;32m   6958\u001b[0m     labels, shape \u001b[38;5;241m=\u001b[39m \u001b[38;5;28mmap\u001b[39m(\u001b[38;5;28mlist\u001b[39m, \u001b[38;5;28mzip\u001b[39m(\u001b[38;5;241m*\u001b[39m\u001b[38;5;28mmap\u001b[39m(f, vals)))\n\u001b[1;32m-> 6960\u001b[0m     ids \u001b[38;5;241m=\u001b[39m \u001b[43mget_group_index\u001b[49m\u001b[43m(\u001b[49m\u001b[43mlabels\u001b[49m\u001b[43m,\u001b[49m\u001b[43m \u001b[49m\u001b[38;5;28;43mtuple\u001b[39;49m\u001b[43m(\u001b[49m\u001b[43mshape\u001b[49m\u001b[43m)\u001b[49m\u001b[43m,\u001b[49m\u001b[43m \u001b[49m\u001b[43msort\u001b[49m\u001b[38;5;241;43m=\u001b[39;49m\u001b[38;5;28;43;01mFalse\u001b[39;49;00m\u001b[43m,\u001b[49m\u001b[43m \u001b[49m\u001b[43mxnull\u001b[49m\u001b[38;5;241;43m=\u001b[39;49m\u001b[38;5;28;43;01mFalse\u001b[39;49;00m\u001b[43m)\u001b[49m\n\u001b[0;32m   6961\u001b[0m     result \u001b[38;5;241m=\u001b[39m \u001b[38;5;28mself\u001b[39m\u001b[38;5;241m.\u001b[39m_constructor_sliced(duplicated(ids, keep), index\u001b[38;5;241m=\u001b[39m\u001b[38;5;28mself\u001b[39m\u001b[38;5;241m.\u001b[39mindex)\n\u001b[0;32m   6962\u001b[0m \u001b[38;5;28;01mreturn\u001b[39;00m result\u001b[38;5;241m.\u001b[39m__finalize__(\u001b[38;5;28mself\u001b[39m, method\u001b[38;5;241m=\u001b[39m\u001b[38;5;124m\"\u001b[39m\u001b[38;5;124mduplicated\u001b[39m\u001b[38;5;124m\"\u001b[39m)\n",
      "File \u001b[1;32mc:\\Users\\HP\\Desktop\\TenX\\fraud-detection\\myenv\\lib\\site-packages\\pandas\\core\\sorting.py:206\u001b[0m, in \u001b[0;36mget_group_index\u001b[1;34m(labels, shape, sort, xnull)\u001b[0m\n\u001b[0;32m    202\u001b[0m     \u001b[38;5;28;01mbreak\u001b[39;00m\n\u001b[0;32m    204\u001b[0m \u001b[38;5;66;03m# compress what has been done so far in order to avoid overflow\u001b[39;00m\n\u001b[0;32m    205\u001b[0m \u001b[38;5;66;03m# to retain lexical ranks, obs_ids should be sorted\u001b[39;00m\n\u001b[1;32m--> 206\u001b[0m comp_ids, obs_ids \u001b[38;5;241m=\u001b[39m \u001b[43mcompress_group_index\u001b[49m\u001b[43m(\u001b[49m\u001b[43mout\u001b[49m\u001b[43m,\u001b[49m\u001b[43m \u001b[49m\u001b[43msort\u001b[49m\u001b[38;5;241;43m=\u001b[39;49m\u001b[43msort\u001b[49m\u001b[43m)\u001b[49m\n\u001b[0;32m    208\u001b[0m labels \u001b[38;5;241m=\u001b[39m [comp_ids] \u001b[38;5;241m+\u001b[39m labels[nlev:]\n\u001b[0;32m    209\u001b[0m lshape \u001b[38;5;241m=\u001b[39m [\u001b[38;5;28mlen\u001b[39m(obs_ids)] \u001b[38;5;241m+\u001b[39m lshape[nlev:]\n",
      "File \u001b[1;32mc:\\Users\\HP\\Desktop\\TenX\\fraud-detection\\myenv\\lib\\site-packages\\pandas\\core\\sorting.py:710\u001b[0m, in \u001b[0;36mcompress_group_index\u001b[1;34m(group_index, sort)\u001b[0m\n\u001b[0;32m    707\u001b[0m group_index \u001b[38;5;241m=\u001b[39m ensure_int64(group_index)\n\u001b[0;32m    709\u001b[0m \u001b[38;5;66;03m# note, group labels come out ascending (ie, 1,2,3 etc)\u001b[39;00m\n\u001b[1;32m--> 710\u001b[0m comp_ids, obs_group_ids \u001b[38;5;241m=\u001b[39m \u001b[43mtable\u001b[49m\u001b[38;5;241;43m.\u001b[39;49m\u001b[43mget_labels_groupby\u001b[49m\u001b[43m(\u001b[49m\u001b[43mgroup_index\u001b[49m\u001b[43m)\u001b[49m\n\u001b[0;32m    712\u001b[0m \u001b[38;5;28;01mif\u001b[39;00m sort \u001b[38;5;129;01mand\u001b[39;00m \u001b[38;5;28mlen\u001b[39m(obs_group_ids) \u001b[38;5;241m>\u001b[39m \u001b[38;5;241m0\u001b[39m:\n\u001b[0;32m    713\u001b[0m     obs_group_ids, comp_ids \u001b[38;5;241m=\u001b[39m _reorder_by_uniques(obs_group_ids, comp_ids)\n",
      "\u001b[1;31mKeyboardInterrupt\u001b[0m: "
     ]
    }
   ],
   "source": [
    "preprocessor.data_cleaning()"
   ]
  },
  {
   "cell_type": "markdown",
   "metadata": {},
   "source": [
    "Exploratory Data Analysis (EDA)"
   ]
  },
  {
   "cell_type": "code",
   "execution_count": 6,
   "metadata": {},
   "outputs": [
    {
     "name": "stdout",
     "output_type": "stream",
     "text": [
      "Univariate Analysis:\n",
      "{'Fraud Counts E-commerce': class\n",
      "0    0.906354\n",
      "1    0.093646\n",
      "Name: proportion, dtype: float64, 'Fraud Counts Credit': Class\n",
      "0    0.998333\n",
      "1    0.001667\n",
      "Name: proportion, dtype: float64}\n",
      "\n",
      "Bivariate Analysis:\n",
      "{'Fraud Data Correlation':                  user_id  purchase_value       age  ip_address     class\n",
      "user_id         1.000000        0.002617  0.000611   -0.003144  0.001945\n",
      "purchase_value  0.002617        1.000000  0.002370   -0.000328  0.001011\n",
      "age             0.000611        0.002370  1.000000    0.001140  0.006624\n",
      "ip_address     -0.003144       -0.000328  0.001140    1.000000 -0.005208\n",
      "class           0.001945        0.001011  0.006624   -0.005208  1.000000, 'Credit Data Correlation':             Time        V1        V2        V3        V4        V5        V6  \\\n",
      "Time    1.000000  0.117927 -0.010556 -0.422054 -0.105845  0.173223 -0.063279   \n",
      "V1      0.117927  1.000000  0.006875 -0.008112  0.002257 -0.007036  0.000413   \n",
      "V2     -0.010556  0.006875  1.000000  0.005278 -0.001495  0.005210 -0.000594   \n",
      "V3     -0.422054 -0.008112  0.005278  1.000000  0.002829 -0.006879 -0.001511   \n",
      "V4     -0.105845  0.002257 -0.001495  0.002829  1.000000  0.001744 -0.000880   \n",
      "V5      0.173223 -0.007036  0.005210 -0.006879  0.001744  1.000000 -0.000938   \n",
      "V6     -0.063279  0.000413 -0.000594 -0.001511 -0.000880 -0.000938  1.000000   \n",
      "V7      0.085335 -0.009173  0.007425 -0.011721  0.004657 -0.008709  0.000436   \n",
      "V8     -0.038203 -0.001168  0.002899 -0.001815  0.000890  0.001430  0.003036   \n",
      "V9     -0.007861  0.001828 -0.000274 -0.003579  0.002154 -0.001213 -0.000734   \n",
      "V10     0.031068  0.000815  0.000620 -0.009632  0.002753 -0.006050 -0.002180   \n",
      "V11    -0.248536  0.001028 -0.000633  0.002339 -0.001223  0.000411 -0.000211   \n",
      "V12     0.125500 -0.001524  0.002266 -0.005900  0.003366 -0.002342 -0.001185   \n",
      "V13    -0.065958 -0.000568  0.000680  0.000113  0.000177  0.000019  0.000397   \n",
      "V14    -0.100316 -0.002663  0.002711 -0.003027  0.002801 -0.001000  0.000184   \n",
      "V15    -0.184392 -0.000602  0.001538 -0.001230  0.000572 -0.001171 -0.000470   \n",
      "V16     0.011286 -0.003345  0.004013 -0.004430  0.003346 -0.002373  0.000122   \n",
      "V17    -0.073819 -0.003491  0.003244 -0.008159  0.003655 -0.004466 -0.001716   \n",
      "V18     0.090305 -0.003535  0.002477 -0.003495  0.002325 -0.002685  0.000541   \n",
      "V19     0.029537  0.000919 -0.000358 -0.000016 -0.000560  0.000436  0.000106   \n",
      "V20    -0.051022 -0.001393 -0.001287 -0.002269  0.000318 -0.001185 -0.000181   \n",
      "V21     0.045913  0.002818 -0.004897  0.003500 -0.001034  0.001622 -0.002134   \n",
      "V22     0.143727 -0.001436  0.001237 -0.000275  0.000115 -0.000559  0.001104   \n",
      "V23     0.051474 -0.001330 -0.003855  0.000449  0.000732  0.001183 -0.000755   \n",
      "V24    -0.015954 -0.000723  0.000701 -0.000072 -0.000120  0.000198  0.001202   \n",
      "V25    -0.233262 -0.000222 -0.001569  0.000425  0.000162  0.000069  0.000697   \n",
      "V26    -0.041818 -0.000684  0.000253 -0.000094  0.000777  0.000390 -0.000028   \n",
      "V27    -0.005171 -0.015706  0.007555 -0.007051  0.001322 -0.005798  0.000289   \n",
      "V28    -0.009305 -0.004861  0.001611 -0.000134  0.000231 -0.000820  0.000925   \n",
      "Amount -0.010559 -0.230105 -0.533428 -0.212410  0.099514 -0.387685  0.216389   \n",
      "Class  -0.012359 -0.094486  0.084624 -0.182322  0.129326 -0.087812 -0.043915   \n",
      "\n",
      "              V7        V8        V9  ...       V21       V22       V23  \\\n",
      "Time    0.085335 -0.038203 -0.007861  ...  0.045913  0.143727  0.051474   \n",
      "V1     -0.009173 -0.001168  0.001828  ...  0.002818 -0.001436 -0.001330   \n",
      "V2      0.007425  0.002899 -0.000274  ... -0.004897  0.001237 -0.003855   \n",
      "V3     -0.011721 -0.001815 -0.003579  ...  0.003500 -0.000275  0.000449   \n",
      "V4      0.004657  0.000890  0.002154  ... -0.001034  0.000115  0.000732   \n",
      "V5     -0.008709  0.001430 -0.001213  ...  0.001622 -0.000559  0.001183   \n",
      "V6      0.000436  0.003036 -0.000734  ... -0.002134  0.001104 -0.000755   \n",
      "V7      1.000000 -0.006419 -0.004921  ...  0.009010 -0.002280  0.003303   \n",
      "V8     -0.006419  1.000000  0.001038  ...  0.018892 -0.006156  0.004994   \n",
      "V9     -0.004921  0.001038  1.000000  ...  0.000679  0.000785  0.000677   \n",
      "V10    -0.013617  0.000481 -0.012613  ...  0.003777 -0.000481  0.001917   \n",
      "V11     0.002454  0.004688 -0.000217  ... -0.002760 -0.000150 -0.000037   \n",
      "V12    -0.006153 -0.004414 -0.002385  ...  0.003285  0.000151  0.000486   \n",
      "V13    -0.000170 -0.001381  0.000745  ...  0.000522  0.000016  0.000252   \n",
      "V14    -0.003816 -0.008387  0.001981  ...  0.005633 -0.001906  0.000666   \n",
      "V15    -0.001394  0.001044 -0.000283  ... -0.000271 -0.001197  0.000969   \n",
      "V16    -0.005944 -0.004376 -0.000086  ...  0.004326 -0.000820  0.001209   \n",
      "V17    -0.008794 -0.005576 -0.002318  ...  0.003560 -0.000162  0.000667   \n",
      "V18    -0.004279 -0.001323 -0.000373  ...  0.001629 -0.000533  0.000240   \n",
      "V19     0.000846 -0.000626  0.000247  ...  0.000244  0.001342  0.000381   \n",
      "V20    -0.001192  0.000271 -0.001838  ...  0.005372 -0.001617 -0.001094   \n",
      "V21     0.009010  0.018892  0.000679  ...  1.000000  0.009645 -0.006391   \n",
      "V22    -0.002280 -0.006156  0.000785  ...  0.009645  1.000000  0.001929   \n",
      "V23     0.003303  0.004994  0.000677  ... -0.006391  0.001929  1.000000   \n",
      "V24    -0.000384  0.000113 -0.000103  ...  0.001210 -0.000031  0.000273   \n",
      "V25    -0.000072  0.000011 -0.000275  ... -0.000872  0.000197 -0.000532   \n",
      "V26     0.000624 -0.001407  0.001253  ... -0.000874 -0.001495 -0.000185   \n",
      "V27    -0.004537  0.000613  0.008221  ... -0.005216  0.003037 -0.002028   \n",
      "V28     0.001657 -0.000099  0.005591  ... -0.004436  0.001392 -0.003224   \n",
      "Amount  0.400408 -0.104662 -0.044123  ...  0.108058 -0.064965 -0.112833   \n",
      "Class  -0.172347  0.033068 -0.094021  ...  0.026357  0.004887 -0.006333   \n",
      "\n",
      "             V24       V25       V26       V27       V28    Amount     Class  \n",
      "Time   -0.015954 -0.233262 -0.041818 -0.005171 -0.009305 -0.010559 -0.012359  \n",
      "V1     -0.000723 -0.000222 -0.000684 -0.015706 -0.004861 -0.230105 -0.094486  \n",
      "V2      0.000701 -0.001569  0.000253  0.007555  0.001611 -0.533428  0.084624  \n",
      "V3     -0.000072  0.000425 -0.000094 -0.007051 -0.000134 -0.212410 -0.182322  \n",
      "V4     -0.000120  0.000162  0.000777  0.001322  0.000231  0.099514  0.129326  \n",
      "V5      0.000198  0.000069  0.000390 -0.005798 -0.000820 -0.387685 -0.087812  \n",
      "V6      0.001202  0.000697 -0.000028  0.000289  0.000925  0.216389 -0.043915  \n",
      "V7     -0.000384 -0.000072  0.000624 -0.004537  0.001657  0.400408 -0.172347  \n",
      "V8      0.000113  0.000011 -0.001407  0.000613 -0.000099 -0.104662  0.033068  \n",
      "V9     -0.000103 -0.000275  0.001253  0.008221  0.005591 -0.044123 -0.094021  \n",
      "V10     0.000154 -0.000565  0.001089  0.010769  0.009159 -0.102255 -0.206971  \n",
      "V11     0.000080  0.000047 -0.000204  0.001987  0.002562 -0.000015  0.149067  \n",
      "V12     0.000588 -0.000181 -0.000138 -0.000929 -0.000613 -0.009254 -0.250711  \n",
      "V13    -0.000049  0.000248 -0.000101 -0.001577 -0.000604  0.005209 -0.003897  \n",
      "V14    -0.000026  0.000155 -0.000702 -0.004556 -0.004664  0.034122 -0.293375  \n",
      "V15     0.000113  0.000445 -0.002034 -0.000641  0.000858 -0.003265 -0.003300  \n",
      "V16    -0.000482  0.000215 -0.001245 -0.003974 -0.001629 -0.004488 -0.187186  \n",
      "V17     0.001006 -0.000685  0.000157 -0.003421 -0.002703  0.007730 -0.313498  \n",
      "V18    -0.000710 -0.000559 -0.000596 -0.004231 -0.001256  0.035775 -0.105340  \n",
      "V19    -0.000112 -0.000084  0.000856 -0.000544  0.000353 -0.055994  0.033631  \n",
      "V20    -0.000303 -0.000643 -0.000310 -0.000049  0.002671  0.340729  0.021486  \n",
      "V21     0.001210 -0.000872 -0.000874 -0.005216 -0.004436  0.108058  0.026357  \n",
      "V22    -0.000031  0.000197 -0.001495  0.003037  0.001392 -0.064965  0.004887  \n",
      "V23     0.000273 -0.000532 -0.000185 -0.002028 -0.003224 -0.112833 -0.006333  \n",
      "V24     1.000000 -0.000188  0.000568 -0.000885  0.000322  0.005055 -0.007210  \n",
      "V25    -0.000188  1.000000  0.000048 -0.001339 -0.000565 -0.047596  0.003202  \n",
      "V26     0.000568  0.000048  1.000000 -0.003294 -0.000999 -0.003425  0.004265  \n",
      "V27    -0.000885 -0.001339 -0.003294  1.000000 -0.013950  0.027922  0.021892  \n",
      "V28     0.000322 -0.000565 -0.000999 -0.013950  1.000000  0.010143  0.009682  \n",
      "Amount  0.005055 -0.047596 -0.003425  0.027922  0.010143  1.000000  0.005777  \n",
      "Class  -0.007210  0.003202  0.004265  0.021892  0.009682  0.005777  1.000000  \n",
      "\n",
      "[31 rows x 31 columns]}\n"
     ]
    }
   ],
   "source": [
    "print(\"Univariate Analysis:\")\n",
    "print(preprocessor.univariate_analysis())\n",
    "print(\"\\nBivariate Analysis:\")\n",
    "print(preprocessor.bivariate_analysis())"
   ]
  },
  {
   "cell_type": "markdown",
   "metadata": {},
   "source": [
    "Merge datasets based on IP geolocation data"
   ]
  },
  {
   "cell_type": "code",
   "execution_count": 7,
   "metadata": {},
   "outputs": [
    {
     "ename": "AttributeError",
     "evalue": "'float' object has no attribute 'split'",
     "output_type": "error",
     "traceback": [
      "\u001b[1;31m---------------------------------------------------------------------------\u001b[0m",
      "\u001b[1;31mAttributeError\u001b[0m                            Traceback (most recent call last)",
      "Cell \u001b[1;32mIn[7], line 1\u001b[0m\n\u001b[1;32m----> 1\u001b[0m \u001b[43mpreprocessor\u001b[49m\u001b[38;5;241;43m.\u001b[39;49m\u001b[43mmerge_datasets\u001b[49m\u001b[43m(\u001b[49m\u001b[43m)\u001b[49m\n",
      "File \u001b[1;32mc:\\Users\\HP\\Desktop\\TenX\\fraud-detection\\scripts\\preprocessing.py:49\u001b[0m, in \u001b[0;36mFraudPreprocessing.merge_datasets\u001b[1;34m(self)\u001b[0m\n\u001b[0;32m     47\u001b[0m \u001b[38;5;28;01mdef\u001b[39;00m \u001b[38;5;21mmerge_datasets\u001b[39m(\u001b[38;5;28mself\u001b[39m):\n\u001b[0;32m     48\u001b[0m     \u001b[38;5;66;03m# Convert IP addresses to integer format and merge with IP to country dataset\u001b[39;00m\n\u001b[1;32m---> 49\u001b[0m     \u001b[38;5;28mself\u001b[39m\u001b[38;5;241m.\u001b[39mfraud_data[\u001b[38;5;124m'\u001b[39m\u001b[38;5;124mip_address\u001b[39m\u001b[38;5;124m'\u001b[39m] \u001b[38;5;241m=\u001b[39m \u001b[38;5;28;43mself\u001b[39;49m\u001b[38;5;241;43m.\u001b[39;49m\u001b[43mfraud_data\u001b[49m\u001b[43m[\u001b[49m\u001b[38;5;124;43m'\u001b[39;49m\u001b[38;5;124;43mip_address\u001b[39;49m\u001b[38;5;124;43m'\u001b[39;49m\u001b[43m]\u001b[49m\u001b[38;5;241;43m.\u001b[39;49m\u001b[43mapply\u001b[49m\u001b[43m(\u001b[49m\u001b[38;5;28;43mself\u001b[39;49m\u001b[38;5;241;43m.\u001b[39;49m\u001b[43mip_to_integer\u001b[49m\u001b[43m)\u001b[49m\n\u001b[0;32m     50\u001b[0m     \u001b[38;5;28mself\u001b[39m\u001b[38;5;241m.\u001b[39mip_data[\u001b[38;5;124m'\u001b[39m\u001b[38;5;124mlower_bound_ip_address\u001b[39m\u001b[38;5;124m'\u001b[39m] \u001b[38;5;241m=\u001b[39m \u001b[38;5;28mself\u001b[39m\u001b[38;5;241m.\u001b[39mip_data[\u001b[38;5;124m'\u001b[39m\u001b[38;5;124mlower_bound_ip_address\u001b[39m\u001b[38;5;124m'\u001b[39m]\u001b[38;5;241m.\u001b[39mapply(\u001b[38;5;28mself\u001b[39m\u001b[38;5;241m.\u001b[39mip_to_integer)\n\u001b[0;32m     51\u001b[0m     \u001b[38;5;28mself\u001b[39m\u001b[38;5;241m.\u001b[39mip_data[\u001b[38;5;124m'\u001b[39m\u001b[38;5;124mupper_bound_ip_address\u001b[39m\u001b[38;5;124m'\u001b[39m] \u001b[38;5;241m=\u001b[39m \u001b[38;5;28mself\u001b[39m\u001b[38;5;241m.\u001b[39mip_data[\u001b[38;5;124m'\u001b[39m\u001b[38;5;124mupper_bound_ip_address\u001b[39m\u001b[38;5;124m'\u001b[39m]\u001b[38;5;241m.\u001b[39mapply(\u001b[38;5;28mself\u001b[39m\u001b[38;5;241m.\u001b[39mip_to_integer)\n",
      "File \u001b[1;32mc:\\Users\\HP\\Desktop\\TenX\\fraud-detection\\myenv\\lib\\site-packages\\pandas\\core\\series.py:4917\u001b[0m, in \u001b[0;36mSeries.apply\u001b[1;34m(self, func, convert_dtype, args, by_row, **kwargs)\u001b[0m\n\u001b[0;32m   4789\u001b[0m \u001b[38;5;28;01mdef\u001b[39;00m \u001b[38;5;21mapply\u001b[39m(\n\u001b[0;32m   4790\u001b[0m     \u001b[38;5;28mself\u001b[39m,\n\u001b[0;32m   4791\u001b[0m     func: AggFuncType,\n\u001b[1;32m   (...)\u001b[0m\n\u001b[0;32m   4796\u001b[0m     \u001b[38;5;241m*\u001b[39m\u001b[38;5;241m*\u001b[39mkwargs,\n\u001b[0;32m   4797\u001b[0m ) \u001b[38;5;241m-\u001b[39m\u001b[38;5;241m>\u001b[39m DataFrame \u001b[38;5;241m|\u001b[39m Series:\n\u001b[0;32m   4798\u001b[0m \u001b[38;5;250m    \u001b[39m\u001b[38;5;124;03m\"\"\"\u001b[39;00m\n\u001b[0;32m   4799\u001b[0m \u001b[38;5;124;03m    Invoke function on values of Series.\u001b[39;00m\n\u001b[0;32m   4800\u001b[0m \n\u001b[1;32m   (...)\u001b[0m\n\u001b[0;32m   4915\u001b[0m \u001b[38;5;124;03m    dtype: float64\u001b[39;00m\n\u001b[0;32m   4916\u001b[0m \u001b[38;5;124;03m    \"\"\"\u001b[39;00m\n\u001b[1;32m-> 4917\u001b[0m     \u001b[38;5;28;01mreturn\u001b[39;00m \u001b[43mSeriesApply\u001b[49m\u001b[43m(\u001b[49m\n\u001b[0;32m   4918\u001b[0m \u001b[43m        \u001b[49m\u001b[38;5;28;43mself\u001b[39;49m\u001b[43m,\u001b[49m\n\u001b[0;32m   4919\u001b[0m \u001b[43m        \u001b[49m\u001b[43mfunc\u001b[49m\u001b[43m,\u001b[49m\n\u001b[0;32m   4920\u001b[0m \u001b[43m        \u001b[49m\u001b[43mconvert_dtype\u001b[49m\u001b[38;5;241;43m=\u001b[39;49m\u001b[43mconvert_dtype\u001b[49m\u001b[43m,\u001b[49m\n\u001b[0;32m   4921\u001b[0m \u001b[43m        \u001b[49m\u001b[43mby_row\u001b[49m\u001b[38;5;241;43m=\u001b[39;49m\u001b[43mby_row\u001b[49m\u001b[43m,\u001b[49m\n\u001b[0;32m   4922\u001b[0m \u001b[43m        \u001b[49m\u001b[43margs\u001b[49m\u001b[38;5;241;43m=\u001b[39;49m\u001b[43margs\u001b[49m\u001b[43m,\u001b[49m\n\u001b[0;32m   4923\u001b[0m \u001b[43m        \u001b[49m\u001b[43mkwargs\u001b[49m\u001b[38;5;241;43m=\u001b[39;49m\u001b[43mkwargs\u001b[49m\u001b[43m,\u001b[49m\n\u001b[0;32m   4924\u001b[0m \u001b[43m    \u001b[49m\u001b[43m)\u001b[49m\u001b[38;5;241;43m.\u001b[39;49m\u001b[43mapply\u001b[49m\u001b[43m(\u001b[49m\u001b[43m)\u001b[49m\n",
      "File \u001b[1;32mc:\\Users\\HP\\Desktop\\TenX\\fraud-detection\\myenv\\lib\\site-packages\\pandas\\core\\apply.py:1427\u001b[0m, in \u001b[0;36mSeriesApply.apply\u001b[1;34m(self)\u001b[0m\n\u001b[0;32m   1424\u001b[0m     \u001b[38;5;28;01mreturn\u001b[39;00m \u001b[38;5;28mself\u001b[39m\u001b[38;5;241m.\u001b[39mapply_compat()\n\u001b[0;32m   1426\u001b[0m \u001b[38;5;66;03m# self.func is Callable\u001b[39;00m\n\u001b[1;32m-> 1427\u001b[0m \u001b[38;5;28;01mreturn\u001b[39;00m \u001b[38;5;28;43mself\u001b[39;49m\u001b[38;5;241;43m.\u001b[39;49m\u001b[43mapply_standard\u001b[49m\u001b[43m(\u001b[49m\u001b[43m)\u001b[49m\n",
      "File \u001b[1;32mc:\\Users\\HP\\Desktop\\TenX\\fraud-detection\\myenv\\lib\\site-packages\\pandas\\core\\apply.py:1507\u001b[0m, in \u001b[0;36mSeriesApply.apply_standard\u001b[1;34m(self)\u001b[0m\n\u001b[0;32m   1501\u001b[0m \u001b[38;5;66;03m# row-wise access\u001b[39;00m\n\u001b[0;32m   1502\u001b[0m \u001b[38;5;66;03m# apply doesn't have a `na_action` keyword and for backward compat reasons\u001b[39;00m\n\u001b[0;32m   1503\u001b[0m \u001b[38;5;66;03m# we need to give `na_action=\"ignore\"` for categorical data.\u001b[39;00m\n\u001b[0;32m   1504\u001b[0m \u001b[38;5;66;03m# TODO: remove the `na_action=\"ignore\"` when that default has been changed in\u001b[39;00m\n\u001b[0;32m   1505\u001b[0m \u001b[38;5;66;03m#  Categorical (GH51645).\u001b[39;00m\n\u001b[0;32m   1506\u001b[0m action \u001b[38;5;241m=\u001b[39m \u001b[38;5;124m\"\u001b[39m\u001b[38;5;124mignore\u001b[39m\u001b[38;5;124m\"\u001b[39m \u001b[38;5;28;01mif\u001b[39;00m \u001b[38;5;28misinstance\u001b[39m(obj\u001b[38;5;241m.\u001b[39mdtype, CategoricalDtype) \u001b[38;5;28;01melse\u001b[39;00m \u001b[38;5;28;01mNone\u001b[39;00m\n\u001b[1;32m-> 1507\u001b[0m mapped \u001b[38;5;241m=\u001b[39m \u001b[43mobj\u001b[49m\u001b[38;5;241;43m.\u001b[39;49m\u001b[43m_map_values\u001b[49m\u001b[43m(\u001b[49m\n\u001b[0;32m   1508\u001b[0m \u001b[43m    \u001b[49m\u001b[43mmapper\u001b[49m\u001b[38;5;241;43m=\u001b[39;49m\u001b[43mcurried\u001b[49m\u001b[43m,\u001b[49m\u001b[43m \u001b[49m\u001b[43mna_action\u001b[49m\u001b[38;5;241;43m=\u001b[39;49m\u001b[43maction\u001b[49m\u001b[43m,\u001b[49m\u001b[43m \u001b[49m\u001b[43mconvert\u001b[49m\u001b[38;5;241;43m=\u001b[39;49m\u001b[38;5;28;43mself\u001b[39;49m\u001b[38;5;241;43m.\u001b[39;49m\u001b[43mconvert_dtype\u001b[49m\n\u001b[0;32m   1509\u001b[0m \u001b[43m\u001b[49m\u001b[43m)\u001b[49m\n\u001b[0;32m   1511\u001b[0m \u001b[38;5;28;01mif\u001b[39;00m \u001b[38;5;28mlen\u001b[39m(mapped) \u001b[38;5;129;01mand\u001b[39;00m \u001b[38;5;28misinstance\u001b[39m(mapped[\u001b[38;5;241m0\u001b[39m], ABCSeries):\n\u001b[0;32m   1512\u001b[0m     \u001b[38;5;66;03m# GH#43986 Need to do list(mapped) in order to get treated as nested\u001b[39;00m\n\u001b[0;32m   1513\u001b[0m     \u001b[38;5;66;03m#  See also GH#25959 regarding EA support\u001b[39;00m\n\u001b[0;32m   1514\u001b[0m     \u001b[38;5;28;01mreturn\u001b[39;00m obj\u001b[38;5;241m.\u001b[39m_constructor_expanddim(\u001b[38;5;28mlist\u001b[39m(mapped), index\u001b[38;5;241m=\u001b[39mobj\u001b[38;5;241m.\u001b[39mindex)\n",
      "File \u001b[1;32mc:\\Users\\HP\\Desktop\\TenX\\fraud-detection\\myenv\\lib\\site-packages\\pandas\\core\\base.py:921\u001b[0m, in \u001b[0;36mIndexOpsMixin._map_values\u001b[1;34m(self, mapper, na_action, convert)\u001b[0m\n\u001b[0;32m    918\u001b[0m \u001b[38;5;28;01mif\u001b[39;00m \u001b[38;5;28misinstance\u001b[39m(arr, ExtensionArray):\n\u001b[0;32m    919\u001b[0m     \u001b[38;5;28;01mreturn\u001b[39;00m arr\u001b[38;5;241m.\u001b[39mmap(mapper, na_action\u001b[38;5;241m=\u001b[39mna_action)\n\u001b[1;32m--> 921\u001b[0m \u001b[38;5;28;01mreturn\u001b[39;00m \u001b[43malgorithms\u001b[49m\u001b[38;5;241;43m.\u001b[39;49m\u001b[43mmap_array\u001b[49m\u001b[43m(\u001b[49m\u001b[43marr\u001b[49m\u001b[43m,\u001b[49m\u001b[43m \u001b[49m\u001b[43mmapper\u001b[49m\u001b[43m,\u001b[49m\u001b[43m \u001b[49m\u001b[43mna_action\u001b[49m\u001b[38;5;241;43m=\u001b[39;49m\u001b[43mna_action\u001b[49m\u001b[43m,\u001b[49m\u001b[43m \u001b[49m\u001b[43mconvert\u001b[49m\u001b[38;5;241;43m=\u001b[39;49m\u001b[43mconvert\u001b[49m\u001b[43m)\u001b[49m\n",
      "File \u001b[1;32mc:\\Users\\HP\\Desktop\\TenX\\fraud-detection\\myenv\\lib\\site-packages\\pandas\\core\\algorithms.py:1743\u001b[0m, in \u001b[0;36mmap_array\u001b[1;34m(arr, mapper, na_action, convert)\u001b[0m\n\u001b[0;32m   1741\u001b[0m values \u001b[38;5;241m=\u001b[39m arr\u001b[38;5;241m.\u001b[39mastype(\u001b[38;5;28mobject\u001b[39m, copy\u001b[38;5;241m=\u001b[39m\u001b[38;5;28;01mFalse\u001b[39;00m)\n\u001b[0;32m   1742\u001b[0m \u001b[38;5;28;01mif\u001b[39;00m na_action \u001b[38;5;129;01mis\u001b[39;00m \u001b[38;5;28;01mNone\u001b[39;00m:\n\u001b[1;32m-> 1743\u001b[0m     \u001b[38;5;28;01mreturn\u001b[39;00m \u001b[43mlib\u001b[49m\u001b[38;5;241;43m.\u001b[39;49m\u001b[43mmap_infer\u001b[49m\u001b[43m(\u001b[49m\u001b[43mvalues\u001b[49m\u001b[43m,\u001b[49m\u001b[43m \u001b[49m\u001b[43mmapper\u001b[49m\u001b[43m,\u001b[49m\u001b[43m \u001b[49m\u001b[43mconvert\u001b[49m\u001b[38;5;241;43m=\u001b[39;49m\u001b[43mconvert\u001b[49m\u001b[43m)\u001b[49m\n\u001b[0;32m   1744\u001b[0m \u001b[38;5;28;01melse\u001b[39;00m:\n\u001b[0;32m   1745\u001b[0m     \u001b[38;5;28;01mreturn\u001b[39;00m lib\u001b[38;5;241m.\u001b[39mmap_infer_mask(\n\u001b[0;32m   1746\u001b[0m         values, mapper, mask\u001b[38;5;241m=\u001b[39misna(values)\u001b[38;5;241m.\u001b[39mview(np\u001b[38;5;241m.\u001b[39muint8), convert\u001b[38;5;241m=\u001b[39mconvert\n\u001b[0;32m   1747\u001b[0m     )\n",
      "File \u001b[1;32mlib.pyx:2972\u001b[0m, in \u001b[0;36mpandas._libs.lib.map_infer\u001b[1;34m()\u001b[0m\n",
      "File \u001b[1;32mc:\\Users\\HP\\Desktop\\TenX\\fraud-detection\\scripts\\preprocessing.py:67\u001b[0m, in \u001b[0;36mFraudPreprocessing.ip_to_integer\u001b[1;34m(ip)\u001b[0m\n\u001b[0;32m     64\u001b[0m \u001b[38;5;129m@staticmethod\u001b[39m\n\u001b[0;32m     65\u001b[0m \u001b[38;5;28;01mdef\u001b[39;00m \u001b[38;5;21mip_to_integer\u001b[39m(ip):\n\u001b[0;32m     66\u001b[0m     \u001b[38;5;66;03m# Convert IP to integer for merging\u001b[39;00m\n\u001b[1;32m---> 67\u001b[0m     parts \u001b[38;5;241m=\u001b[39m \u001b[43mip\u001b[49m\u001b[38;5;241;43m.\u001b[39;49m\u001b[43msplit\u001b[49m(\u001b[38;5;124m'\u001b[39m\u001b[38;5;124m.\u001b[39m\u001b[38;5;124m'\u001b[39m)\n\u001b[0;32m     68\u001b[0m     \u001b[38;5;28;01mreturn\u001b[39;00m \u001b[38;5;28mint\u001b[39m(parts[\u001b[38;5;241m0\u001b[39m]) \u001b[38;5;241m*\u001b[39m \u001b[38;5;241m256\u001b[39m\u001b[38;5;241m*\u001b[39m\u001b[38;5;241m*\u001b[39m\u001b[38;5;241m3\u001b[39m \u001b[38;5;241m+\u001b[39m \u001b[38;5;28mint\u001b[39m(parts[\u001b[38;5;241m1\u001b[39m]) \u001b[38;5;241m*\u001b[39m \u001b[38;5;241m256\u001b[39m\u001b[38;5;241m*\u001b[39m\u001b[38;5;241m*\u001b[39m\u001b[38;5;241m2\u001b[39m \u001b[38;5;241m+\u001b[39m \u001b[38;5;28mint\u001b[39m(parts[\u001b[38;5;241m2\u001b[39m]) \u001b[38;5;241m*\u001b[39m \u001b[38;5;241m256\u001b[39m \u001b[38;5;241m+\u001b[39m \u001b[38;5;28mint\u001b[39m(parts[\u001b[38;5;241m3\u001b[39m])\n",
      "\u001b[1;31mAttributeError\u001b[0m: 'float' object has no attribute 'split'"
     ]
    }
   ],
   "source": [
    "preprocessor.merge_datasets()"
   ]
  }
 ],
 "metadata": {
  "language_info": {
   "name": "python"
  }
 },
 "nbformat": 4,
 "nbformat_minor": 2
}
