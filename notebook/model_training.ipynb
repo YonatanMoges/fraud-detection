{
 "cells": [
  {
   "cell_type": "code",
   "execution_count": 2,
   "metadata": {},
   "outputs": [],
   "source": [
    "import pandas as pd\n",
    "# Import Custom Modules\n",
    "import sys\n",
    "sys.path.append('../scripts') \n",
    "\n",
    "from model_training import FraudDetectionModels"
   ]
  },
  {
   "cell_type": "code",
   "execution_count": 6,
   "metadata": {},
   "outputs": [],
   "source": [
    "fraud_data = pd.read_csv(\"../data/processed/processed_fraud_data.csv\")\n",
    "credit_data = pd.read_csv(\"../data/processed/processed_credit_data.csv\")"
   ]
  },
  {
   "cell_type": "code",
   "execution_count": 7,
   "metadata": {},
   "outputs": [],
   "source": [
    "# Initialize the model training class\n",
    "model_trainer = FraudDetectionModels(fraud_data, credit_data)"
   ]
  }
 ],
 "metadata": {
  "language_info": {
   "name": "python"
  }
 },
 "nbformat": 4,
 "nbformat_minor": 2
}
