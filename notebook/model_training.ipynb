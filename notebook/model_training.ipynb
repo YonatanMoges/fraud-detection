{
 "cells": [
  {
   "cell_type": "code",
   "execution_count": 14,
   "metadata": {},
   "outputs": [],
   "source": [
    "import pandas as pd\n",
    "# Import Custom Modules\n",
    "import sys\n",
    "sys.path.append('../scripts') \n",
    "\n",
    "from model_training import FraudDetectionModels"
   ]
  },
  {
   "cell_type": "code",
   "execution_count": 15,
   "metadata": {},
   "outputs": [],
   "source": [
    "fraud_data = pd.read_csv(\"../data/processed/processed_fraud_data.csv\")\n",
    "credit_data = pd.read_csv(\"../data/processed/processed_credit_data.csv\")"
   ]
  },
  {
   "cell_type": "code",
   "execution_count": 17,
   "metadata": {},
   "outputs": [],
   "source": [
    "# Initialize the model training class\n",
    "model_trainer = FraudDetectionModels(fraud_data, credit_data)"
   ]
  },
  {
   "cell_type": "code",
   "execution_count": 18,
   "metadata": {},
   "outputs": [
    {
     "name": "stderr",
     "output_type": "stream",
     "text": [
      "c:\\Users\\HP\\Desktop\\TenX\\fraud-detection\\myenv\\lib\\site-packages\\sklearn\\metrics\\_classification.py:1531: UndefinedMetricWarning: Precision is ill-defined and being set to 0.0 due to no predicted samples. Use `zero_division` parameter to control this behavior.\n",
      "  _warn_prf(average, modifier, f\"{metric.capitalize()} is\", len(result))\n"
     ]
    },
    {
     "name": "stdout",
     "output_type": "stream",
     "text": [
      "Epoch 1/10\n",
      "3778/3778 [==============================] - 12s 3ms/step - loss: 0.2433 - accuracy: 0.9265\n",
      "Epoch 2/10\n",
      "3778/3778 [==============================] - 11s 3ms/step - loss: 0.2016 - accuracy: 0.9478\n",
      "Epoch 3/10\n",
      "3778/3778 [==============================] - 11s 3ms/step - loss: 0.1922 - accuracy: 0.9512\n",
      "Epoch 4/10\n",
      "3778/3778 [==============================] - 11s 3ms/step - loss: 0.1876 - accuracy: 0.9530\n",
      "Epoch 5/10\n",
      "3778/3778 [==============================] - 11s 3ms/step - loss: 0.1846 - accuracy: 0.9539\n",
      "Epoch 6/10\n",
      "3778/3778 [==============================] - 11s 3ms/step - loss: 0.1832 - accuracy: 0.9545\n",
      "Epoch 7/10\n",
      "3778/3778 [==============================] - 11s 3ms/step - loss: 0.1821 - accuracy: 0.9548\n",
      "Epoch 8/10\n",
      "3778/3778 [==============================] - 11s 3ms/step - loss: 0.1813 - accuracy: 0.9550\n",
      "Epoch 9/10\n",
      "3778/3778 [==============================] - 11s 3ms/step - loss: 0.1809 - accuracy: 0.9552\n",
      "Epoch 10/10\n",
      "3778/3778 [==============================] - 11s 3ms/step - loss: 0.1805 - accuracy: 0.9553\n",
      "945/945 [==============================] - 2s 2ms/step\n",
      "Epoch 1/10\n",
      "3778/3778 [==============================] - 39s 10ms/step - loss: 0.2771 - accuracy: 0.9095\n",
      "Epoch 2/10\n",
      "3778/3778 [==============================] - 37s 10ms/step - loss: 0.2098 - accuracy: 0.9417\n",
      "Epoch 3/10\n",
      "3778/3778 [==============================] - 37s 10ms/step - loss: 0.1928 - accuracy: 0.9511\n",
      "Epoch 4/10\n",
      "3778/3778 [==============================] - 37s 10ms/step - loss: 0.1874 - accuracy: 0.9532\n",
      "Epoch 5/10\n",
      "3778/3778 [==============================] - 38s 10ms/step - loss: 0.1841 - accuracy: 0.9544\n",
      "Epoch 6/10\n",
      "3778/3778 [==============================] - 38s 10ms/step - loss: 0.1830 - accuracy: 0.9547\n",
      "Epoch 7/10\n",
      "3778/3778 [==============================] - 38s 10ms/step - loss: 0.1820 - accuracy: 0.9550\n",
      "Epoch 8/10\n",
      "3778/3778 [==============================] - 37s 10ms/step - loss: 0.1807 - accuracy: 0.9555\n",
      "Epoch 9/10\n",
      "3778/3778 [==============================] - 37s 10ms/step - loss: 0.1808 - accuracy: 0.9554\n",
      "Epoch 10/10\n",
      "3778/3778 [==============================] - 37s 10ms/step - loss: 0.1799 - accuracy: 0.9557\n",
      "945/945 [==============================] - 4s 4ms/step\n",
      "Epoch 1/10\n",
      "3778/3778 [==============================] - 36s 9ms/step - loss: 0.2763 - accuracy: 0.9095\n",
      "Epoch 2/10\n",
      "3778/3778 [==============================] - 33s 9ms/step - loss: 0.2197 - accuracy: 0.9348\n",
      "Epoch 3/10\n",
      "3778/3778 [==============================] - 33s 9ms/step - loss: 0.2005 - accuracy: 0.9471\n",
      "Epoch 4/10\n",
      "3778/3778 [==============================] - 33s 9ms/step - loss: 0.1911 - accuracy: 0.9516\n",
      "Epoch 5/10\n",
      "3778/3778 [==============================] - 33s 9ms/step - loss: 0.1865 - accuracy: 0.9535\n",
      "Epoch 6/10\n",
      "3778/3778 [==============================] - 33s 9ms/step - loss: 0.1837 - accuracy: 0.9545\n",
      "Epoch 7/10\n",
      "3778/3778 [==============================] - 33s 9ms/step - loss: 0.1823 - accuracy: 0.9550\n",
      "Epoch 8/10\n",
      "3778/3778 [==============================] - 33s 9ms/step - loss: 0.1814 - accuracy: 0.9552\n",
      "Epoch 9/10\n",
      "3778/3778 [==============================] - 33s 9ms/step - loss: 0.1803 - accuracy: 0.9556\n",
      "Epoch 10/10\n",
      "3778/3778 [==============================] - 33s 9ms/step - loss: 0.1798 - accuracy: 0.9558\n",
      "945/945 [==============================] - 4s 4ms/step\n"
     ]
    }
   ],
   "source": [
    "# Run models on fraud_data with 'class' as the target variable\n",
    "fraud_results = model_trainer.run_all_models(fraud_data, 'class')"
   ]
  },
  {
   "cell_type": "code",
   "execution_count": 22,
   "metadata": {},
   "outputs": [
    {
     "name": "stdout",
     "output_type": "stream",
     "text": [
      "[0 1]\n",
      "[0 1]\n"
     ]
    }
   ],
   "source": [
    "print(credit_data['Class'].unique())\n",
    "# Ensure Class column has binary values (0 or 1)\n",
    "credit_data['Class'] = credit_data['Class'].apply(lambda x: 1 if x > 0 else 0)\n",
    "print(credit_data['Class'].unique())"
   ]
  },
  {
   "cell_type": "code",
   "execution_count": 23,
   "metadata": {},
   "outputs": [
    {
     "name": "stdout",
     "output_type": "stream",
     "text": [
      "Epoch 1/10\n",
      "7094/7094 [==============================] - 24s 3ms/step - loss: 0.0054 - accuracy: 0.9990\n",
      "Epoch 2/10\n",
      "7094/7094 [==============================] - 23s 3ms/step - loss: 0.0036 - accuracy: 0.9993\n",
      "Epoch 3/10\n",
      "7094/7094 [==============================] - 23s 3ms/step - loss: 0.0034 - accuracy: 0.9994\n",
      "Epoch 4/10\n",
      "7094/7094 [==============================] - 23s 3ms/step - loss: 0.0031 - accuracy: 0.9994\n",
      "Epoch 5/10\n",
      "7094/7094 [==============================] - 23s 3ms/step - loss: 0.0029 - accuracy: 0.9994\n",
      "Epoch 6/10\n",
      "7094/7094 [==============================] - 23s 3ms/step - loss: 0.0029 - accuracy: 0.9994\n",
      "Epoch 7/10\n",
      "7094/7094 [==============================] - 23s 3ms/step - loss: 0.0029 - accuracy: 0.9995\n",
      "Epoch 8/10\n",
      "7094/7094 [==============================] - 23s 3ms/step - loss: 0.0027 - accuracy: 0.9995\n",
      "Epoch 9/10\n",
      "7094/7094 [==============================] - 23s 3ms/step - loss: 0.0028 - accuracy: 0.9995\n",
      "Epoch 10/10\n",
      "7094/7094 [==============================] - 23s 3ms/step - loss: 0.0026 - accuracy: 0.9995\n",
      "1774/1774 [==============================] - 3s 2ms/step\n",
      "Epoch 1/10\n",
      "7094/7094 [==============================] - 97s 13ms/step - loss: 0.0086 - accuracy: 0.9986\n",
      "Epoch 2/10\n",
      "7094/7094 [==============================] - 95s 13ms/step - loss: 0.0041 - accuracy: 0.9992\n",
      "Epoch 3/10\n",
      "7094/7094 [==============================] - 97s 14ms/step - loss: 0.0036 - accuracy: 0.9993\n",
      "Epoch 4/10\n",
      "7094/7094 [==============================] - 99s 14ms/step - loss: 0.0035 - accuracy: 0.9993\n",
      "Epoch 5/10\n",
      "7094/7094 [==============================] - 100s 14ms/step - loss: 0.0033 - accuracy: 0.9993\n",
      "Epoch 6/10\n",
      "7094/7094 [==============================] - 100s 14ms/step - loss: 0.0033 - accuracy: 0.9994\n",
      "Epoch 7/10\n",
      "7094/7094 [==============================] - 99s 14ms/step - loss: 0.0031 - accuracy: 0.9994\n",
      "Epoch 8/10\n",
      "7094/7094 [==============================] - 99s 14ms/step - loss: 0.0030 - accuracy: 0.9995\n",
      "Epoch 9/10\n",
      "7094/7094 [==============================] - 99s 14ms/step - loss: 0.0031 - accuracy: 0.9994\n",
      "Epoch 10/10\n",
      "7094/7094 [==============================] - 96s 13ms/step - loss: 0.0029 - accuracy: 0.9995\n",
      "1774/1774 [==============================] - 10s 6ms/step\n",
      "Epoch 1/10\n",
      "7094/7094 [==============================] - 97s 13ms/step - loss: 0.0073 - accuracy: 0.9988\n",
      "Epoch 2/10\n",
      "7094/7094 [==============================] - 93s 13ms/step - loss: 0.0040 - accuracy: 0.9993\n",
      "Epoch 3/10\n",
      "7094/7094 [==============================] - 93s 13ms/step - loss: 0.0036 - accuracy: 0.9993\n",
      "Epoch 4/10\n",
      "7094/7094 [==============================] - 93s 13ms/step - loss: 0.0035 - accuracy: 0.9993\n",
      "Epoch 5/10\n",
      "7094/7094 [==============================] - 94s 13ms/step - loss: 0.0034 - accuracy: 0.9994\n",
      "Epoch 6/10\n",
      "7094/7094 [==============================] - 95s 13ms/step - loss: 0.0033 - accuracy: 0.9993\n",
      "Epoch 7/10\n",
      "7094/7094 [==============================] - 95s 13ms/step - loss: 0.0031 - accuracy: 0.9994\n",
      "Epoch 8/10\n",
      "7094/7094 [==============================] - 95s 13ms/step - loss: 0.0031 - accuracy: 0.9994\n",
      "Epoch 9/10\n",
      "7094/7094 [==============================] - 95s 13ms/step - loss: 0.0030 - accuracy: 0.9994\n",
      "Epoch 10/10\n",
      "7094/7094 [==============================] - 95s 13ms/step - loss: 0.0030 - accuracy: 0.9995\n",
      "1774/1774 [==============================] - 15s 7ms/step\n"
     ]
    }
   ],
   "source": [
    "# Run models on credit_data with 'Class' as the target variable\n",
    "credit_results = model_trainer.run_all_models(credit_data, 'Class')"
   ]
  },
  {
   "cell_type": "code",
   "execution_count": 24,
   "metadata": {},
   "outputs": [
    {
     "name": "stdout",
     "output_type": "stream",
     "text": [
      "Fraud Data Model Results:\n",
      "Logistic Regression: {'accuracy': 0.9079508983224697, 'precision': 0.0, 'recall': 0.0, 'f1_score': 0.0}\n",
      "Decision Tree: {'accuracy': 0.9076531118684446, 'precision': 0.49856459330143543, 'recall': 0.5618260244428469, 'f1_score': 0.5283082643231367}\n",
      "Random Forest: {'accuracy': 0.9571187506203884, 'precision': 1.0, 'recall': 0.5341480948957584, 'f1_score': 0.6963448922211809}\n",
      "Gradient Boosting: {'accuracy': 0.9571187506203884, 'precision': 1.0, 'recall': 0.5341480948957584, 'f1_score': 0.6963448922211809}\n",
      "MLP: {'accuracy': 0.9562253912583132, 'precision': 0.9821546596166556, 'recall': 0.5341480948957584, 'f1_score': 0.6919674039580908}\n",
      "CNN: {'accuracy': 0.9561261291069715, 'precision': 0.9802110817941952, 'recall': 0.5341480948957584, 'f1_score': 0.6914844113541182}\n",
      "RNN: {'accuracy': 0.9562253912583132, 'precision': 0.9821546596166556, 'recall': 0.5341480948957584, 'f1_score': 0.6919674039580908}\n",
      "LSTM: {'accuracy': 0.9563577407934355, 'precision': 0.9847581179589132, 'recall': 0.5341480948957584, 'f1_score': 0.6926124446515963}\n"
     ]
    }
   ],
   "source": [
    "# Print results for fraud data models\n",
    "print(\"Fraud Data Model Results:\")\n",
    "for model_name, metrics in fraud_results.items():\n",
    "    print(f\"{model_name}: {metrics}\")"
   ]
  },
  {
   "cell_type": "code",
   "execution_count": 25,
   "metadata": {},
   "outputs": [
    {
     "name": "stdout",
     "output_type": "stream",
     "text": [
      "\n",
      "Credit Card Data Model Results:\n",
      "Logistic Regression: {'accuracy': 0.9991893701758714, 'precision': 0.8928571428571429, 'recall': 0.5555555555555556, 'f1_score': 0.684931506849315}\n",
      "Decision Tree: {'accuracy': 0.9990131463010609, 'precision': 0.673469387755102, 'recall': 0.7333333333333333, 'f1_score': 0.7021276595744681}\n",
      "Random Forest: {'accuracy': 0.9995241955380115, 'precision': 0.9701492537313433, 'recall': 0.7222222222222222, 'f1_score': 0.8280254777070064}\n",
      "Gradient Boosting: {'accuracy': 0.9993127268882388, 'precision': 0.9047619047619048, 'recall': 0.6333333333333333, 'f1_score': 0.7450980392156863}\n",
      "MLP: {'accuracy': 0.9995241955380115, 'precision': 0.9315068493150684, 'recall': 0.7555555555555555, 'f1_score': 0.8343558282208589}\n",
      "CNN: {'accuracy': 0.9995065731505305, 'precision': 0.9428571428571428, 'recall': 0.7333333333333333, 'f1_score': 0.825}\n",
      "RNN: {'accuracy': 0.9992951045007578, 'precision': 0.9807692307692307, 'recall': 0.5666666666666667, 'f1_score': 0.7183098591549296}\n",
      "LSTM: {'accuracy': 0.9992774821132767, 'precision': 0.9016393442622951, 'recall': 0.6111111111111112, 'f1_score': 0.7284768211920529}\n"
     ]
    }
   ],
   "source": [
    "# Print results for credit card data models\n",
    "print(\"\\nCredit Card Data Model Results:\")\n",
    "for model_name, metrics in credit_results.items():\n",
    "    print(f\"{model_name}: {metrics}\")"
   ]
  }
 ],
 "metadata": {
  "language_info": {
   "name": "python"
  }
 },
 "nbformat": 4,
 "nbformat_minor": 2
}
