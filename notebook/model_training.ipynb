{
 "cells": [
  {
   "cell_type": "code",
   "execution_count": 1,
   "metadata": {},
   "outputs": [],
   "source": [
    "import pandas as pd\n",
    "# Import Custom Modules\n",
    "import sys\n",
    "sys.path.append('../scripts') \n",
    "\n",
    "from model_training import FraudDetectionModels"
   ]
  },
  {
   "cell_type": "code",
   "execution_count": 2,
   "metadata": {},
   "outputs": [],
   "source": [
    "# Load the data\n",
    "fraud_data = pd.read_csv(\"../data/processed/processed_fraud_data.csv\")\n",
    "credit_data = pd.read_csv(\"../data/processed/processed_credit_data.csv\")"
   ]
  },
  {
   "cell_type": "code",
   "execution_count": 3,
   "metadata": {},
   "outputs": [],
   "source": [
    "# Initialize the model training class\n",
    "model_trainer = FraudDetectionModels(fraud_data, credit_data)"
   ]
  },
  {
   "cell_type": "code",
   "execution_count": 4,
   "metadata": {},
   "outputs": [
    {
     "name": "stdout",
     "output_type": "stream",
     "text": [
      "Running models on Fraud Data and saving them locally in models/fraud\n"
     ]
    },
    {
     "name": "stderr",
     "output_type": "stream",
     "text": [
      "c:\\Users\\HP\\Desktop\\TenX\\fraud-detection\\myenv\\lib\\site-packages\\sklearn\\metrics\\_classification.py:1531: UndefinedMetricWarning: Precision is ill-defined and being set to 0.0 due to no predicted samples. Use `zero_division` parameter to control this behavior.\n",
      "  _warn_prf(average, modifier, f\"{metric.capitalize()} is\", len(result))\n",
      "2024/10/29 19:36:08 WARNING mlflow.models.model: Model logged without a signature and input example. Please set `input_example` parameter when logging the model to auto infer the model signature.\n",
      "2024/10/29 19:36:14 WARNING mlflow.models.model: Model logged without a signature and input example. Please set `input_example` parameter when logging the model to auto infer the model signature.\n",
      "2024/10/29 19:36:42 WARNING mlflow.models.model: Model logged without a signature and input example. Please set `input_example` parameter when logging the model to auto infer the model signature.\n",
      "2024/10/29 19:37:13 WARNING mlflow.models.model: Model logged without a signature and input example. Please set `input_example` parameter when logging the model to auto infer the model signature.\n",
      "2024/10/29 19:38:07 WARNING mlflow.models.model: Model logged without a signature and input example. Please set `input_example` parameter when logging the model to auto infer the model signature.\n"
     ]
    },
    {
     "name": "stdout",
     "output_type": "stream",
     "text": [
      "Epoch 1/10\n",
      "3778/3778 [==============================] - 13s 3ms/step - loss: 0.2447 - accuracy: 0.9245\n",
      "Epoch 2/10\n",
      "3778/3778 [==============================] - 10s 3ms/step - loss: 0.2060 - accuracy: 0.9468\n",
      "Epoch 3/10\n",
      "3778/3778 [==============================] - 10s 3ms/step - loss: 0.1960 - accuracy: 0.9503\n",
      "Epoch 4/10\n",
      "3778/3778 [==============================] - 10s 3ms/step - loss: 0.1915 - accuracy: 0.9517\n",
      "Epoch 5/10\n",
      "3778/3778 [==============================] - 10s 3ms/step - loss: 0.1886 - accuracy: 0.9528\n",
      "Epoch 6/10\n",
      "3778/3778 [==============================] - 10s 3ms/step - loss: 0.1874 - accuracy: 0.9533\n",
      "Epoch 7/10\n",
      "3778/3778 [==============================] - 10s 3ms/step - loss: 0.1857 - accuracy: 0.9539\n",
      "Epoch 8/10\n",
      "3778/3778 [==============================] - 10s 3ms/step - loss: 0.1847 - accuracy: 0.9542\n",
      "Epoch 9/10\n",
      "3778/3778 [==============================] - 10s 3ms/step - loss: 0.1838 - accuracy: 0.9545\n",
      "Epoch 10/10\n",
      "3778/3778 [==============================] - 10s 3ms/step - loss: 0.1831 - accuracy: 0.9547\n",
      "945/945 [==============================] - 2s 2ms/step\n"
     ]
    },
    {
     "name": "stderr",
     "output_type": "stream",
     "text": [
      "2024/10/29 19:39:57 WARNING mlflow.tensorflow: You are saving a TensorFlow Core model or Keras model without a signature. Inference with mlflow.pyfunc.spark_udf() will not work unless the model's pyfunc representation accepts pandas DataFrames as inference inputs.\n",
      "WARNING:absl:Found untraced functions such as _jit_compiled_convolution_op, _update_step_xla while saving (showing 2 of 2). These functions will not be directly callable after loading.\n"
     ]
    },
    {
     "name": "stdout",
     "output_type": "stream",
     "text": [
      "INFO:tensorflow:Assets written to: C:\\Users\\HP\\AppData\\Local\\Temp\\tmprc3yyvkk\\model\\data\\model\\assets\n"
     ]
    },
    {
     "name": "stderr",
     "output_type": "stream",
     "text": [
      "INFO:tensorflow:Assets written to: C:\\Users\\HP\\AppData\\Local\\Temp\\tmprc3yyvkk\\model\\data\\model\\assets\n",
      "2024/10/29 19:40:14 WARNING mlflow.models.model: Model logged without a signature and input example. Please set `input_example` parameter when logging the model to auto infer the model signature.\n"
     ]
    },
    {
     "name": "stdout",
     "output_type": "stream",
     "text": [
      "Epoch 1/10\n",
      "3778/3778 [==============================] - 37s 9ms/step - loss: 0.2820 - accuracy: 0.9085\n",
      "Epoch 2/10\n",
      "3778/3778 [==============================] - 33s 9ms/step - loss: 0.2143 - accuracy: 0.9389\n",
      "Epoch 3/10\n",
      "3778/3778 [==============================] - 33s 9ms/step - loss: 0.1944 - accuracy: 0.9501\n",
      "Epoch 4/10\n",
      "3778/3778 [==============================] - 33s 9ms/step - loss: 0.1880 - accuracy: 0.9528\n",
      "Epoch 5/10\n",
      "3778/3778 [==============================] - 33s 9ms/step - loss: 0.1848 - accuracy: 0.9542\n",
      "Epoch 6/10\n",
      "3778/3778 [==============================] - 33s 9ms/step - loss: 0.1828 - accuracy: 0.9549\n",
      "Epoch 7/10\n",
      "3778/3778 [==============================] - 33s 9ms/step - loss: 0.1815 - accuracy: 0.9553\n",
      "Epoch 8/10\n",
      "3778/3778 [==============================] - 33s 9ms/step - loss: 0.1805 - accuracy: 0.9556\n",
      "Epoch 9/10\n",
      "3778/3778 [==============================] - 33s 9ms/step - loss: 0.1798 - accuracy: 0.9558\n",
      "Epoch 10/10\n",
      "3778/3778 [==============================] - 34s 9ms/step - loss: 0.1797 - accuracy: 0.9557\n",
      "945/945 [==============================] - 4s 4ms/step\n"
     ]
    },
    {
     "name": "stderr",
     "output_type": "stream",
     "text": [
      "2024/10/29 19:45:56 WARNING mlflow.tensorflow: You are saving a TensorFlow Core model or Keras model without a signature. Inference with mlflow.pyfunc.spark_udf() will not work unless the model's pyfunc representation accepts pandas DataFrames as inference inputs.\n",
      "WARNING:absl:Found untraced functions such as _update_step_xla, lstm_cell_layer_call_fn, lstm_cell_layer_call_and_return_conditional_losses while saving (showing 3 of 3). These functions will not be directly callable after loading.\n"
     ]
    },
    {
     "name": "stdout",
     "output_type": "stream",
     "text": [
      "INFO:tensorflow:Assets written to: C:\\Users\\HP\\AppData\\Local\\Temp\\tmp2jzzzue0\\model\\data\\model\\assets\n"
     ]
    },
    {
     "name": "stderr",
     "output_type": "stream",
     "text": [
      "INFO:tensorflow:Assets written to: C:\\Users\\HP\\AppData\\Local\\Temp\\tmp2jzzzue0\\model\\data\\model\\assets\n",
      "2024/10/29 19:46:06 WARNING mlflow.models.model: Model logged without a signature and input example. Please set `input_example` parameter when logging the model to auto infer the model signature.\n"
     ]
    },
    {
     "name": "stdout",
     "output_type": "stream",
     "text": [
      "Epoch 1/10\n",
      "3778/3778 [==============================] - 35s 9ms/step - loss: 0.2819 - accuracy: 0.9099\n",
      "Epoch 2/10\n",
      "3778/3778 [==============================] - 33s 9ms/step - loss: 0.2142 - accuracy: 0.9388\n",
      "Epoch 3/10\n",
      "3778/3778 [==============================] - 33s 9ms/step - loss: 0.1969 - accuracy: 0.9492\n",
      "Epoch 4/10\n",
      "3778/3778 [==============================] - 33s 9ms/step - loss: 0.1886 - accuracy: 0.9527\n",
      "Epoch 5/10\n",
      "3778/3778 [==============================] - 33s 9ms/step - loss: 0.1842 - accuracy: 0.9545\n",
      "Epoch 6/10\n",
      "3778/3778 [==============================] - 33s 9ms/step - loss: 0.1828 - accuracy: 0.9550\n",
      "Epoch 7/10\n",
      "3778/3778 [==============================] - 33s 9ms/step - loss: 0.1818 - accuracy: 0.9552\n",
      "Epoch 8/10\n",
      "3778/3778 [==============================] - 33s 9ms/step - loss: 0.1814 - accuracy: 0.9553\n",
      "Epoch 9/10\n",
      "3778/3778 [==============================] - 33s 9ms/step - loss: 0.1801 - accuracy: 0.9557\n",
      "Epoch 10/10\n",
      "3778/3778 [==============================] - 33s 9ms/step - loss: 0.1798 - accuracy: 0.9557\n",
      "945/945 [==============================] - 4s 4ms/step\n"
     ]
    },
    {
     "name": "stderr",
     "output_type": "stream",
     "text": [
      "2024/10/29 19:51:43 WARNING mlflow.tensorflow: You are saving a TensorFlow Core model or Keras model without a signature. Inference with mlflow.pyfunc.spark_udf() will not work unless the model's pyfunc representation accepts pandas DataFrames as inference inputs.\n",
      "WARNING:absl:Found untraced functions such as _update_step_xla, lstm_cell_1_layer_call_fn, lstm_cell_1_layer_call_and_return_conditional_losses while saving (showing 3 of 3). These functions will not be directly callable after loading.\n"
     ]
    },
    {
     "name": "stdout",
     "output_type": "stream",
     "text": [
      "INFO:tensorflow:Assets written to: C:\\Users\\HP\\AppData\\Local\\Temp\\tmpfpngtfp2\\model\\data\\model\\assets\n"
     ]
    },
    {
     "name": "stderr",
     "output_type": "stream",
     "text": [
      "INFO:tensorflow:Assets written to: C:\\Users\\HP\\AppData\\Local\\Temp\\tmpfpngtfp2\\model\\data\\model\\assets\n",
      "2024/10/29 19:51:53 WARNING mlflow.models.model: Model logged without a signature and input example. Please set `input_example` parameter when logging the model to auto infer the model signature.\n"
     ]
    }
   ],
   "source": [
    "# Run and save models on fraud_data with 'class' as the target variable\n",
    "print(\"Running models on Fraud Data and saving them locally in models/fraud\")\n",
    "fraud_results = model_trainer.run_all_models(fraud_data, 'class', save_local=True, dataset_type=\"fraud\")"
   ]
  },
  {
   "cell_type": "code",
   "execution_count": 5,
   "metadata": {},
   "outputs": [
    {
     "name": "stdout",
     "output_type": "stream",
     "text": [
      "Fraud Data Model Results:\n",
      "Logistic Regression: {'accuracy': 0.9079508983224697, 'precision': 0.0, 'recall': 0.0, 'f1_score': 0.0}\n",
      "Decision Tree: {'accuracy': 0.9074545875657611, 'precision': 0.49760765550239233, 'recall': 0.5607476635514018, 'f1_score': 0.5272942369443975}\n",
      "Random Forest: {'accuracy': 0.9570856632366079, 'precision': 0.9993275050437121, 'recall': 0.5341480948957584, 'f1_score': 0.6961817755914734}\n",
      "Gradient Boosting: {'accuracy': 0.9571187506203884, 'precision': 1.0, 'recall': 0.5341480948957584, 'f1_score': 0.6963448922211809}\n",
      "MLP: {'accuracy': 0.9554974688151407, 'precision': 0.9668615984405458, 'recall': 0.5348670021567218, 'f1_score': 0.6887294607729693}\n",
      "CNN: {'accuracy': 0.9555305561989214, 'precision': 0.9687092568448501, 'recall': 0.5341480948957584, 'f1_score': 0.6886005560704356}\n",
      "RNN: {'accuracy': 0.9567878767825828, 'precision': 0.9933155080213903, 'recall': 0.5341480948957584, 'f1_score': 0.6947171575502571}\n",
      "LSTM: {'accuracy': 0.9561261291069715, 'precision': 0.9802110817941952, 'recall': 0.5341480948957584, 'f1_score': 0.6914844113541182}\n"
     ]
    }
   ],
   "source": [
    "# Print results for fraud data models\n",
    "print(\"Fraud Data Model Results:\")\n",
    "for model_name, metrics in fraud_results.items():\n",
    "    print(f\"{model_name}: {metrics}\")"
   ]
  },
  {
   "cell_type": "code",
   "execution_count": 6,
   "metadata": {},
   "outputs": [
    {
     "name": "stdout",
     "output_type": "stream",
     "text": [
      "Ensuring binary values in 'Class' column of Credit Data\n"
     ]
    }
   ],
   "source": [
    "# Ensure Class column has binary values (0 or 1) in credit_data\n",
    "print(\"Ensuring binary values in 'Class' column of Credit Data\")\n",
    "credit_data['Class'] = credit_data['Class'].apply(lambda x: 1 if x > 0 else 0)"
   ]
  },
  {
   "cell_type": "code",
   "execution_count": 7,
   "metadata": {},
   "outputs": [
    {
     "name": "stdout",
     "output_type": "stream",
     "text": [
      "Running models on Credit Card Data and saving them locally in models/credit\n"
     ]
    },
    {
     "name": "stderr",
     "output_type": "stream",
     "text": [
      "2024/10/29 19:51:58 WARNING mlflow.models.model: Model logged without a signature and input example. Please set `input_example` parameter when logging the model to auto infer the model signature.\n",
      "2024/10/29 19:52:26 WARNING mlflow.models.model: Model logged without a signature and input example. Please set `input_example` parameter when logging the model to auto infer the model signature.\n",
      "2024/10/29 19:57:29 WARNING mlflow.models.model: Model logged without a signature and input example. Please set `input_example` parameter when logging the model to auto infer the model signature.\n",
      "2024/10/29 20:04:57 WARNING mlflow.models.model: Model logged without a signature and input example. Please set `input_example` parameter when logging the model to auto infer the model signature.\n",
      "2024/10/29 20:05:39 WARNING mlflow.models.model: Model logged without a signature and input example. Please set `input_example` parameter when logging the model to auto infer the model signature.\n"
     ]
    },
    {
     "name": "stdout",
     "output_type": "stream",
     "text": [
      "Epoch 1/10\n",
      "7094/7094 [==============================] - 23s 3ms/step - loss: 0.0059 - accuracy: 0.9990\n",
      "Epoch 2/10\n",
      "7094/7094 [==============================] - 22s 3ms/step - loss: 0.0034 - accuracy: 0.9993\n",
      "Epoch 3/10\n",
      "7094/7094 [==============================] - 22s 3ms/step - loss: 0.0032 - accuracy: 0.9994\n",
      "Epoch 4/10\n",
      "7094/7094 [==============================] - 23s 3ms/step - loss: 0.0031 - accuracy: 0.9994\n",
      "Epoch 5/10\n",
      "7094/7094 [==============================] - 22s 3ms/step - loss: 0.0030 - accuracy: 0.9994\n",
      "Epoch 6/10\n",
      "7094/7094 [==============================] - 23s 3ms/step - loss: 0.0030 - accuracy: 0.9994\n",
      "Epoch 7/10\n",
      "7094/7094 [==============================] - 23s 3ms/step - loss: 0.0028 - accuracy: 0.9995\n",
      "Epoch 8/10\n",
      "7094/7094 [==============================] - 23s 3ms/step - loss: 0.0028 - accuracy: 0.9994\n",
      "Epoch 9/10\n",
      "7094/7094 [==============================] - 23s 3ms/step - loss: 0.0027 - accuracy: 0.9995\n",
      "Epoch 10/10\n",
      "7094/7094 [==============================] - 22s 3ms/step - loss: 0.0026 - accuracy: 0.9995\n",
      "1774/1774 [==============================] - 3s 2ms/step\n"
     ]
    },
    {
     "name": "stderr",
     "output_type": "stream",
     "text": [
      "2024/10/29 20:09:28 WARNING mlflow.tensorflow: You are saving a TensorFlow Core model or Keras model without a signature. Inference with mlflow.pyfunc.spark_udf() will not work unless the model's pyfunc representation accepts pandas DataFrames as inference inputs.\n",
      "WARNING:absl:Found untraced functions such as _jit_compiled_convolution_op, _update_step_xla while saving (showing 2 of 2). These functions will not be directly callable after loading.\n"
     ]
    },
    {
     "name": "stdout",
     "output_type": "stream",
     "text": [
      "INFO:tensorflow:Assets written to: C:\\Users\\HP\\AppData\\Local\\Temp\\tmphxjihq_g\\model\\data\\model\\assets\n"
     ]
    },
    {
     "name": "stderr",
     "output_type": "stream",
     "text": [
      "INFO:tensorflow:Assets written to: C:\\Users\\HP\\AppData\\Local\\Temp\\tmphxjihq_g\\model\\data\\model\\assets\n",
      "2024/10/29 20:11:03 WARNING mlflow.models.model: Model logged without a signature and input example. Please set `input_example` parameter when logging the model to auto infer the model signature.\n"
     ]
    },
    {
     "name": "stdout",
     "output_type": "stream",
     "text": [
      "Epoch 1/10\n",
      "7094/7094 [==============================] - 106s 15ms/step - loss: 0.0078 - accuracy: 0.9988\n",
      "Epoch 2/10\n",
      "7094/7094 [==============================] - 103s 14ms/step - loss: 0.0040 - accuracy: 0.9993\n",
      "Epoch 3/10\n",
      "7094/7094 [==============================] - 103s 15ms/step - loss: 0.0037 - accuracy: 0.9993\n",
      "Epoch 4/10\n",
      "7094/7094 [==============================] - 104s 15ms/step - loss: 0.0037 - accuracy: 0.9993\n",
      "Epoch 5/10\n",
      "7094/7094 [==============================] - 103s 15ms/step - loss: 0.0034 - accuracy: 0.9993\n",
      "Epoch 6/10\n",
      "7094/7094 [==============================] - 103s 15ms/step - loss: 0.0034 - accuracy: 0.9994\n",
      "Epoch 7/10\n",
      "7094/7094 [==============================] - 103s 15ms/step - loss: 0.0033 - accuracy: 0.9994\n",
      "Epoch 8/10\n",
      "7094/7094 [==============================] - 109s 15ms/step - loss: 0.0032 - accuracy: 0.9994\n",
      "Epoch 9/10\n",
      "7094/7094 [==============================] - 107s 15ms/step - loss: 0.0031 - accuracy: 0.9994\n",
      "Epoch 10/10\n",
      "7094/7094 [==============================] - 108s 15ms/step - loss: 0.0030 - accuracy: 0.9994\n",
      "1774/1774 [==============================] - 12s 6ms/step\n"
     ]
    },
    {
     "name": "stderr",
     "output_type": "stream",
     "text": [
      "2024/10/29 20:28:44 WARNING mlflow.tensorflow: You are saving a TensorFlow Core model or Keras model without a signature. Inference with mlflow.pyfunc.spark_udf() will not work unless the model's pyfunc representation accepts pandas DataFrames as inference inputs.\n",
      "WARNING:absl:Found untraced functions such as _update_step_xla, lstm_cell_2_layer_call_fn, lstm_cell_2_layer_call_and_return_conditional_losses while saving (showing 3 of 3). These functions will not be directly callable after loading.\n"
     ]
    },
    {
     "name": "stdout",
     "output_type": "stream",
     "text": [
      "INFO:tensorflow:Assets written to: C:\\Users\\HP\\AppData\\Local\\Temp\\tmpkbezstip\\model\\data\\model\\assets\n"
     ]
    },
    {
     "name": "stderr",
     "output_type": "stream",
     "text": [
      "INFO:tensorflow:Assets written to: C:\\Users\\HP\\AppData\\Local\\Temp\\tmpkbezstip\\model\\data\\model\\assets\n",
      "2024/10/29 20:30:16 WARNING mlflow.models.model: Model logged without a signature and input example. Please set `input_example` parameter when logging the model to auto infer the model signature.\n"
     ]
    },
    {
     "name": "stdout",
     "output_type": "stream",
     "text": [
      "Epoch 1/10\n",
      "7094/7094 [==============================] - 112s 16ms/step - loss: 0.0069 - accuracy: 0.9990\n",
      "Epoch 2/10\n",
      "7094/7094 [==============================] - 134s 19ms/step - loss: 0.0039 - accuracy: 0.9993\n",
      "Epoch 3/10\n",
      "7094/7094 [==============================] - 137s 19ms/step - loss: 0.0035 - accuracy: 0.9993\n",
      "Epoch 4/10\n",
      "7094/7094 [==============================] - 138s 20ms/step - loss: 0.0035 - accuracy: 0.9994\n",
      "Epoch 5/10\n",
      "7094/7094 [==============================] - 134s 19ms/step - loss: 0.0034 - accuracy: 0.9993\n",
      "Epoch 6/10\n",
      "7094/7094 [==============================] - 134s 19ms/step - loss: 0.0033 - accuracy: 0.9993\n",
      "Epoch 7/10\n",
      "7094/7094 [==============================] - 134s 19ms/step - loss: 0.0032 - accuracy: 0.9994\n",
      "Epoch 8/10\n",
      "7094/7094 [==============================] - 133s 19ms/step - loss: 0.0030 - accuracy: 0.9994\n",
      "Epoch 9/10\n",
      "7094/7094 [==============================] - 134s 19ms/step - loss: 0.0031 - accuracy: 0.9995\n",
      "Epoch 10/10\n",
      "7094/7094 [==============================] - 134s 19ms/step - loss: 0.0030 - accuracy: 0.9994\n",
      "1774/1774 [==============================] - 15s 8ms/step\n"
     ]
    },
    {
     "name": "stderr",
     "output_type": "stream",
     "text": [
      "2024/10/29 20:52:37 WARNING mlflow.tensorflow: You are saving a TensorFlow Core model or Keras model without a signature. Inference with mlflow.pyfunc.spark_udf() will not work unless the model's pyfunc representation accepts pandas DataFrames as inference inputs.\n",
      "WARNING:absl:Found untraced functions such as _update_step_xla, lstm_cell_3_layer_call_fn, lstm_cell_3_layer_call_and_return_conditional_losses while saving (showing 3 of 3). These functions will not be directly callable after loading.\n"
     ]
    },
    {
     "name": "stdout",
     "output_type": "stream",
     "text": [
      "INFO:tensorflow:Assets written to: C:\\Users\\HP\\AppData\\Local\\Temp\\tmpuyjshdcf\\model\\data\\model\\assets\n"
     ]
    },
    {
     "name": "stderr",
     "output_type": "stream",
     "text": [
      "INFO:tensorflow:Assets written to: C:\\Users\\HP\\AppData\\Local\\Temp\\tmpuyjshdcf\\model\\data\\model\\assets\n",
      "2024/10/29 20:54:01 WARNING mlflow.models.model: Model logged without a signature and input example. Please set `input_example` parameter when logging the model to auto infer the model signature.\n"
     ]
    }
   ],
   "source": [
    "# Run and save models on credit_data with 'Class' as the target variable\n",
    "print(\"Running models on Credit Card Data and saving them locally in models/credit\")\n",
    "credit_results = model_trainer.run_all_models(credit_data, 'Class', save_local=True, dataset_type=\"credit\")"
   ]
  },
  {
   "cell_type": "code",
   "execution_count": 8,
   "metadata": {},
   "outputs": [
    {
     "name": "stdout",
     "output_type": "stream",
     "text": [
      "\n",
      "Credit Card Data Model Results:\n",
      "Logistic Regression: {'accuracy': 0.9991893701758714, 'precision': 0.8928571428571429, 'recall': 0.5555555555555556, 'f1_score': 0.684931506849315}\n",
      "Decision Tree: {'accuracy': 0.999048391076023, 'precision': 0.6875, 'recall': 0.7333333333333333, 'f1_score': 0.7096774193548387}\n",
      "Random Forest: {'accuracy': 0.9995241955380115, 'precision': 0.9565217391304348, 'recall': 0.7333333333333333, 'f1_score': 0.8301886792452831}\n",
      "Gradient Boosting: {'accuracy': 0.9993127268882388, 'precision': 0.9047619047619048, 'recall': 0.6333333333333333, 'f1_score': 0.7450980392156863}\n",
      "MLP: {'accuracy': 0.9994889507630493, 'precision': 0.9295774647887324, 'recall': 0.7333333333333333, 'f1_score': 0.8198757763975155}\n",
      "CNN: {'accuracy': 0.9992774821132767, 'precision': 1.0, 'recall': 0.5444444444444444, 'f1_score': 0.7050359712230215}\n",
      "RNN: {'accuracy': 0.9995065731505305, 'precision': 0.9428571428571428, 'recall': 0.7333333333333333, 'f1_score': 0.825}\n",
      "LSTM: {'accuracy': 0.9994008388256441, 'precision': 0.9827586206896551, 'recall': 0.6333333333333333, 'f1_score': 0.7702702702702703}\n"
     ]
    }
   ],
   "source": [
    "\n",
    "# Print results for credit card data models\n",
    "print(\"\\nCredit Card Data Model Results:\")\n",
    "for model_name, metrics in credit_results.items():\n",
    "    print(f\"{model_name}: {metrics}\")"
   ]
  }
 ],
 "metadata": {
  "language_info": {
   "name": "python"
  }
 },
 "nbformat": 4,
 "nbformat_minor": 2
}
