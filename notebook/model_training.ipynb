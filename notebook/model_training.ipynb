{
 "cells": [
  {
   "cell_type": "code",
   "execution_count": 1,
   "metadata": {},
   "outputs": [],
   "source": [
    "import pandas as pd\n",
    "# Import Custom Modules\n",
    "import sys\n",
    "sys.path.append('../scripts') \n",
    "\n",
    "from model_training import FraudDetectionModels"
   ]
  },
  {
   "cell_type": "code",
   "execution_count": 2,
   "metadata": {},
   "outputs": [],
   "source": [
    "# Load the data\n",
    "fraud_data = pd.read_csv(\"../data/processed/processed_fraud_data.csv\")\n",
    "credit_data = pd.read_csv(\"../data/processed/processed_credit_data.csv\")"
   ]
  },
  {
   "cell_type": "code",
   "execution_count": 3,
   "metadata": {},
   "outputs": [],
   "source": [
    "# Initialize the model training class\n",
    "model_trainer = FraudDetectionModels(fraud_data, credit_data)"
   ]
  },
  {
   "cell_type": "code",
   "execution_count": 4,
   "metadata": {},
   "outputs": [
    {
     "name": "stdout",
     "output_type": "stream",
     "text": [
      "Running models on Fraud Data and saving them locally\n"
     ]
    },
    {
     "name": "stderr",
     "output_type": "stream",
     "text": [
      "c:\\Users\\HP\\Desktop\\TenX\\fraud-detection\\myenv\\lib\\site-packages\\sklearn\\metrics\\_classification.py:1531: UndefinedMetricWarning: Precision is ill-defined and being set to 0.0 due to no predicted samples. Use `zero_division` parameter to control this behavior.\n",
      "  _warn_prf(average, modifier, f\"{metric.capitalize()} is\", len(result))\n",
      "2024/10/28 22:41:03 WARNING mlflow.models.model: Model logged without a signature and input example. Please set `input_example` parameter when logging the model to auto infer the model signature.\n",
      "2024/10/28 22:41:09 WARNING mlflow.models.model: Model logged without a signature and input example. Please set `input_example` parameter when logging the model to auto infer the model signature.\n",
      "2024/10/28 22:41:39 WARNING mlflow.models.model: Model logged without a signature and input example. Please set `input_example` parameter when logging the model to auto infer the model signature.\n",
      "2024/10/28 22:42:17 WARNING mlflow.models.model: Model logged without a signature and input example. Please set `input_example` parameter when logging the model to auto infer the model signature.\n",
      "2024/10/28 22:43:14 WARNING mlflow.models.model: Model logged without a signature and input example. Please set `input_example` parameter when logging the model to auto infer the model signature.\n"
     ]
    },
    {
     "name": "stdout",
     "output_type": "stream",
     "text": [
      "Epoch 1/10\n",
      "3778/3778 [==============================] - 11s 3ms/step - loss: 0.2468 - accuracy: 0.9222\n",
      "Epoch 2/10\n",
      "3778/3778 [==============================] - 10s 3ms/step - loss: 0.2056 - accuracy: 0.9470\n",
      "Epoch 3/10\n",
      "3778/3778 [==============================] - 10s 3ms/step - loss: 0.1950 - accuracy: 0.9503\n",
      "Epoch 4/10\n",
      "3778/3778 [==============================] - 10s 3ms/step - loss: 0.1901 - accuracy: 0.9522\n",
      "Epoch 5/10\n",
      "3778/3778 [==============================] - 10s 3ms/step - loss: 0.1874 - accuracy: 0.9530\n",
      "Epoch 6/10\n",
      "3778/3778 [==============================] - 10s 3ms/step - loss: 0.1855 - accuracy: 0.9538\n",
      "Epoch 7/10\n",
      "3778/3778 [==============================] - 10s 3ms/step - loss: 0.1841 - accuracy: 0.9543\n",
      "Epoch 8/10\n",
      "3778/3778 [==============================] - 10s 3ms/step - loss: 0.1832 - accuracy: 0.9545\n",
      "Epoch 9/10\n",
      "3778/3778 [==============================] - 10s 3ms/step - loss: 0.1825 - accuracy: 0.9548\n",
      "Epoch 10/10\n",
      "3778/3778 [==============================] - 10s 3ms/step - loss: 0.1819 - accuracy: 0.9550\n",
      "945/945 [==============================] - 2s 2ms/step\n"
     ]
    },
    {
     "name": "stderr",
     "output_type": "stream",
     "text": [
      "2024/10/28 22:44:58 WARNING mlflow.tensorflow: You are saving a TensorFlow Core model or Keras model without a signature. Inference with mlflow.pyfunc.spark_udf() will not work unless the model's pyfunc representation accepts pandas DataFrames as inference inputs.\n",
      "WARNING:absl:Found untraced functions such as _jit_compiled_convolution_op, _update_step_xla while saving (showing 2 of 2). These functions will not be directly callable after loading.\n"
     ]
    },
    {
     "name": "stdout",
     "output_type": "stream",
     "text": [
      "INFO:tensorflow:Assets written to: C:\\Users\\HP\\AppData\\Local\\Temp\\tmpjxsuaxir\\model\\data\\model\\assets\n"
     ]
    },
    {
     "name": "stderr",
     "output_type": "stream",
     "text": [
      "INFO:tensorflow:Assets written to: C:\\Users\\HP\\AppData\\Local\\Temp\\tmpjxsuaxir\\model\\data\\model\\assets\n",
      "2024/10/28 22:45:08 WARNING mlflow.models.model: Model logged without a signature and input example. Please set `input_example` parameter when logging the model to auto infer the model signature.\n"
     ]
    },
    {
     "name": "stdout",
     "output_type": "stream",
     "text": [
      "Epoch 1/10\n",
      "3778/3778 [==============================] - 35s 9ms/step - loss: 0.2767 - accuracy: 0.9103\n",
      "Epoch 2/10\n",
      "3778/3778 [==============================] - 33s 9ms/step - loss: 0.2125 - accuracy: 0.9395\n",
      "Epoch 3/10\n",
      "3778/3778 [==============================] - 33s 9ms/step - loss: 0.1971 - accuracy: 0.9486\n",
      "Epoch 4/10\n",
      "3778/3778 [==============================] - 33s 9ms/step - loss: 0.1898 - accuracy: 0.9522\n",
      "Epoch 5/10\n",
      "3778/3778 [==============================] - 33s 9ms/step - loss: 0.1862 - accuracy: 0.9537\n",
      "Epoch 6/10\n",
      "3778/3778 [==============================] - 33s 9ms/step - loss: 0.1834 - accuracy: 0.9547\n",
      "Epoch 7/10\n",
      "3778/3778 [==============================] - 33s 9ms/step - loss: 0.1826 - accuracy: 0.9550\n",
      "Epoch 8/10\n",
      "3778/3778 [==============================] - 33s 9ms/step - loss: 0.1815 - accuracy: 0.9553\n",
      "Epoch 9/10\n",
      "3778/3778 [==============================] - 34s 9ms/step - loss: 0.1805 - accuracy: 0.9556\n",
      "Epoch 10/10\n",
      "3778/3778 [==============================] - 34s 9ms/step - loss: 0.1798 - accuracy: 0.9558\n",
      "945/945 [==============================] - 4s 4ms/step\n"
     ]
    },
    {
     "name": "stderr",
     "output_type": "stream",
     "text": [
      "2024/10/28 22:50:48 WARNING mlflow.tensorflow: You are saving a TensorFlow Core model or Keras model without a signature. Inference with mlflow.pyfunc.spark_udf() will not work unless the model's pyfunc representation accepts pandas DataFrames as inference inputs.\n",
      "WARNING:absl:Found untraced functions such as _update_step_xla, lstm_cell_layer_call_fn, lstm_cell_layer_call_and_return_conditional_losses while saving (showing 3 of 3). These functions will not be directly callable after loading.\n"
     ]
    },
    {
     "name": "stdout",
     "output_type": "stream",
     "text": [
      "INFO:tensorflow:Assets written to: C:\\Users\\HP\\AppData\\Local\\Temp\\tmpkbyblmv9\\model\\data\\model\\assets\n"
     ]
    },
    {
     "name": "stderr",
     "output_type": "stream",
     "text": [
      "INFO:tensorflow:Assets written to: C:\\Users\\HP\\AppData\\Local\\Temp\\tmpkbyblmv9\\model\\data\\model\\assets\n",
      "2024/10/28 22:50:59 WARNING mlflow.models.model: Model logged without a signature and input example. Please set `input_example` parameter when logging the model to auto infer the model signature.\n"
     ]
    },
    {
     "name": "stdout",
     "output_type": "stream",
     "text": [
      "Epoch 1/10\n",
      "3778/3778 [==============================] - 36s 9ms/step - loss: 0.2799 - accuracy: 0.9090\n",
      "Epoch 2/10\n",
      "3778/3778 [==============================] - 33s 9ms/step - loss: 0.2188 - accuracy: 0.9356\n",
      "Epoch 3/10\n",
      "3778/3778 [==============================] - 33s 9ms/step - loss: 0.2002 - accuracy: 0.9469\n",
      "Epoch 4/10\n",
      "3778/3778 [==============================] - 33s 9ms/step - loss: 0.1915 - accuracy: 0.9513\n",
      "Epoch 5/10\n",
      "3778/3778 [==============================] - 33s 9ms/step - loss: 0.1860 - accuracy: 0.9539\n",
      "Epoch 6/10\n",
      "3778/3778 [==============================] - 33s 9ms/step - loss: 0.1833 - accuracy: 0.9548\n",
      "Epoch 7/10\n",
      "3778/3778 [==============================] - 33s 9ms/step - loss: 0.1813 - accuracy: 0.9553\n",
      "Epoch 8/10\n",
      "3778/3778 [==============================] - 33s 9ms/step - loss: 0.1807 - accuracy: 0.9556\n",
      "Epoch 9/10\n",
      "3778/3778 [==============================] - 33s 9ms/step - loss: 0.1797 - accuracy: 0.9558\n",
      "Epoch 10/10\n",
      "3778/3778 [==============================] - 33s 9ms/step - loss: 0.1794 - accuracy: 0.9559\n",
      "945/945 [==============================] - 4s 4ms/step\n"
     ]
    },
    {
     "name": "stderr",
     "output_type": "stream",
     "text": [
      "2024/10/28 22:56:41 WARNING mlflow.tensorflow: You are saving a TensorFlow Core model or Keras model without a signature. Inference with mlflow.pyfunc.spark_udf() will not work unless the model's pyfunc representation accepts pandas DataFrames as inference inputs.\n",
      "WARNING:absl:Found untraced functions such as _update_step_xla, lstm_cell_1_layer_call_fn, lstm_cell_1_layer_call_and_return_conditional_losses while saving (showing 3 of 3). These functions will not be directly callable after loading.\n"
     ]
    },
    {
     "name": "stdout",
     "output_type": "stream",
     "text": [
      "INFO:tensorflow:Assets written to: C:\\Users\\HP\\AppData\\Local\\Temp\\tmpg7146w9k\\model\\data\\model\\assets\n"
     ]
    },
    {
     "name": "stderr",
     "output_type": "stream",
     "text": [
      "INFO:tensorflow:Assets written to: C:\\Users\\HP\\AppData\\Local\\Temp\\tmpg7146w9k\\model\\data\\model\\assets\n",
      "2024/10/28 22:56:52 WARNING mlflow.models.model: Model logged without a signature and input example. Please set `input_example` parameter when logging the model to auto infer the model signature.\n"
     ]
    }
   ],
   "source": [
    "# Run and save models on fraud_data with 'class' as the target variable\n",
    "print(\"Running models on Fraud Data and saving them locally\")\n",
    "fraud_results = model_trainer.run_all_models(fraud_data, 'class', save_local=True)"
   ]
  },
  {
   "cell_type": "code",
   "execution_count": 5,
   "metadata": {},
   "outputs": [
    {
     "name": "stdout",
     "output_type": "stream",
     "text": [
      "Fraud Data Model Results:\n",
      "Logistic Regression: {'accuracy': 0.9079508983224697, 'precision': 0.0, 'recall': 0.0, 'f1_score': 0.0}\n",
      "Decision Tree: {'accuracy': 0.9075869371008835, 'precision': 0.49825007954183903, 'recall': 0.5629043853342919, 'f1_score': 0.5286075949367088}\n",
      "Random Forest: {'accuracy': 0.9571187506203884, 'precision': 1.0, 'recall': 0.5341480948957584, 'f1_score': 0.6963448922211809}\n",
      "Gradient Boosting: {'accuracy': 0.9571187506203884, 'precision': 1.0, 'recall': 0.5341480948957584, 'f1_score': 0.6963448922211809}\n",
      "MLP: {'accuracy': 0.955563643582702, 'precision': 0.968729641693811, 'recall': 0.5345075485262402, 'f1_score': 0.688904331711837}\n",
      "CNN: {'accuracy': 0.9555967309664825, 'precision': 0.9699738903394256, 'recall': 0.5341480948957584, 'f1_score': 0.688919796012981}\n",
      "RNN: {'accuracy': 0.9562915660258743, 'precision': 0.9834546657842489, 'recall': 0.5341480948957584, 'f1_score': 0.6922897740507803}\n",
      "LSTM: {'accuracy': 0.9564900903285577, 'precision': 0.987375415282392, 'recall': 0.5341480948957584, 'f1_score': 0.6932586890599487}\n"
     ]
    }
   ],
   "source": [
    "# Print results for fraud data models\n",
    "print(\"Fraud Data Model Results:\")\n",
    "for model_name, metrics in fraud_results.items():\n",
    "    print(f\"{model_name}: {metrics}\")"
   ]
  },
  {
   "cell_type": "code",
   "execution_count": 6,
   "metadata": {},
   "outputs": [
    {
     "name": "stdout",
     "output_type": "stream",
     "text": [
      "Ensuring binary values in 'Class' column of Credit Data\n"
     ]
    }
   ],
   "source": [
    "# Ensure Class column has binary values (0 or 1) in credit_data\n",
    "print(\"Ensuring binary values in 'Class' column of Credit Data\")\n",
    "credit_data['Class'] = credit_data['Class'].apply(lambda x: 1 if x > 0 else 0)"
   ]
  },
  {
   "cell_type": "code",
   "execution_count": 7,
   "metadata": {},
   "outputs": [
    {
     "name": "stdout",
     "output_type": "stream",
     "text": [
      "Running models on Credit Card Data and saving them locally\n"
     ]
    },
    {
     "name": "stderr",
     "output_type": "stream",
     "text": [
      "2024/10/28 22:56:58 WARNING mlflow.models.model: Model logged without a signature and input example. Please set `input_example` parameter when logging the model to auto infer the model signature.\n",
      "2024/10/28 22:57:24 WARNING mlflow.models.model: Model logged without a signature and input example. Please set `input_example` parameter when logging the model to auto infer the model signature.\n",
      "2024/10/28 23:02:31 WARNING mlflow.models.model: Model logged without a signature and input example. Please set `input_example` parameter when logging the model to auto infer the model signature.\n",
      "2024/10/28 23:08:38 WARNING mlflow.models.model: Model logged without a signature and input example. Please set `input_example` parameter when logging the model to auto infer the model signature.\n",
      "2024/10/28 23:09:13 WARNING mlflow.models.model: Model logged without a signature and input example. Please set `input_example` parameter when logging the model to auto infer the model signature.\n"
     ]
    },
    {
     "name": "stdout",
     "output_type": "stream",
     "text": [
      "Epoch 1/10\n",
      "7094/7094 [==============================] - 24s 3ms/step - loss: 0.0057 - accuracy: 0.9990\n",
      "Epoch 2/10\n",
      "7094/7094 [==============================] - 24s 3ms/step - loss: 0.0035 - accuracy: 0.9993\n",
      "Epoch 3/10\n",
      "7094/7094 [==============================] - 24s 3ms/step - loss: 0.0033 - accuracy: 0.9994\n",
      "Epoch 4/10\n",
      "7094/7094 [==============================] - 24s 3ms/step - loss: 0.0031 - accuracy: 0.9994\n",
      "Epoch 5/10\n",
      "7094/7094 [==============================] - 24s 3ms/step - loss: 0.0031 - accuracy: 0.9994\n",
      "Epoch 6/10\n",
      "7094/7094 [==============================] - 23s 3ms/step - loss: 0.0030 - accuracy: 0.9994\n",
      "Epoch 7/10\n",
      "7094/7094 [==============================] - 23s 3ms/step - loss: 0.0028 - accuracy: 0.9994\n",
      "Epoch 8/10\n",
      "7094/7094 [==============================] - 23s 3ms/step - loss: 0.0028 - accuracy: 0.9994\n",
      "Epoch 9/10\n",
      "7094/7094 [==============================] - 22s 3ms/step - loss: 0.0027 - accuracy: 0.9994\n",
      "Epoch 10/10\n",
      "7094/7094 [==============================] - 23s 3ms/step - loss: 0.0027 - accuracy: 0.9994\n",
      "1774/1774 [==============================] - 4s 2ms/step\n"
     ]
    },
    {
     "name": "stderr",
     "output_type": "stream",
     "text": [
      "2024/10/28 23:13:12 WARNING mlflow.tensorflow: You are saving a TensorFlow Core model or Keras model without a signature. Inference with mlflow.pyfunc.spark_udf() will not work unless the model's pyfunc representation accepts pandas DataFrames as inference inputs.\n",
      "WARNING:absl:Found untraced functions such as _jit_compiled_convolution_op, _update_step_xla while saving (showing 2 of 2). These functions will not be directly callable after loading.\n"
     ]
    },
    {
     "name": "stdout",
     "output_type": "stream",
     "text": [
      "INFO:tensorflow:Assets written to: C:\\Users\\HP\\AppData\\Local\\Temp\\tmpt2pq7_wu\\model\\data\\model\\assets\n"
     ]
    },
    {
     "name": "stderr",
     "output_type": "stream",
     "text": [
      "INFO:tensorflow:Assets written to: C:\\Users\\HP\\AppData\\Local\\Temp\\tmpt2pq7_wu\\model\\data\\model\\assets\n",
      "2024/10/28 23:15:13 WARNING mlflow.models.model: Model logged without a signature and input example. Please set `input_example` parameter when logging the model to auto infer the model signature.\n"
     ]
    },
    {
     "name": "stdout",
     "output_type": "stream",
     "text": [
      "Epoch 1/10\n",
      "7094/7094 [==============================] - 107s 15ms/step - loss: 0.0069 - accuracy: 0.9989\n",
      "Epoch 2/10\n",
      "7094/7094 [==============================] - 102s 14ms/step - loss: 0.0041 - accuracy: 0.9993\n",
      "Epoch 3/10\n",
      "7094/7094 [==============================] - 104s 15ms/step - loss: 0.0037 - accuracy: 0.9993\n",
      "Epoch 4/10\n",
      "7094/7094 [==============================] - 102s 14ms/step - loss: 0.0036 - accuracy: 0.9993\n",
      "Epoch 5/10\n",
      "7094/7094 [==============================] - 102s 14ms/step - loss: 0.0035 - accuracy: 0.9993\n",
      "Epoch 6/10\n",
      "7094/7094 [==============================] - 101s 14ms/step - loss: 0.0034 - accuracy: 0.9994\n",
      "Epoch 7/10\n",
      "7094/7094 [==============================] - 101s 14ms/step - loss: 0.0033 - accuracy: 0.9994\n",
      "Epoch 8/10\n",
      "7094/7094 [==============================] - 101s 14ms/step - loss: 0.0031 - accuracy: 0.9994\n",
      "Epoch 9/10\n",
      "7094/7094 [==============================] - 101s 14ms/step - loss: 0.0030 - accuracy: 0.9994\n",
      "Epoch 10/10\n",
      "7094/7094 [==============================] - 102s 14ms/step - loss: 0.0030 - accuracy: 0.9994\n",
      "1774/1774 [==============================] - 11s 6ms/step\n"
     ]
    },
    {
     "name": "stderr",
     "output_type": "stream",
     "text": [
      "2024/10/28 23:32:28 WARNING mlflow.tensorflow: You are saving a TensorFlow Core model or Keras model without a signature. Inference with mlflow.pyfunc.spark_udf() will not work unless the model's pyfunc representation accepts pandas DataFrames as inference inputs.\n",
      "WARNING:absl:Found untraced functions such as _update_step_xla, lstm_cell_2_layer_call_fn, lstm_cell_2_layer_call_and_return_conditional_losses while saving (showing 3 of 3). These functions will not be directly callable after loading.\n"
     ]
    },
    {
     "name": "stdout",
     "output_type": "stream",
     "text": [
      "INFO:tensorflow:Assets written to: C:\\Users\\HP\\AppData\\Local\\Temp\\tmpdbbhbqpy\\model\\data\\model\\assets\n"
     ]
    },
    {
     "name": "stderr",
     "output_type": "stream",
     "text": [
      "INFO:tensorflow:Assets written to: C:\\Users\\HP\\AppData\\Local\\Temp\\tmpdbbhbqpy\\model\\data\\model\\assets\n",
      "2024/10/28 23:33:41 WARNING mlflow.models.model: Model logged without a signature and input example. Please set `input_example` parameter when logging the model to auto infer the model signature.\n"
     ]
    },
    {
     "name": "stdout",
     "output_type": "stream",
     "text": [
      "Epoch 1/10\n",
      "7094/7094 [==============================] - 104s 14ms/step - loss: 0.0076 - accuracy: 0.9989\n",
      "Epoch 2/10\n",
      "7094/7094 [==============================] - 102s 14ms/step - loss: 0.0040 - accuracy: 0.9993\n",
      "Epoch 3/10\n",
      "7094/7094 [==============================] - 102s 14ms/step - loss: 0.0037 - accuracy: 0.9993\n",
      "Epoch 4/10\n",
      "7094/7094 [==============================] - 102s 14ms/step - loss: 0.0035 - accuracy: 0.9994\n",
      "Epoch 5/10\n",
      "7094/7094 [==============================] - 108s 15ms/step - loss: 0.0034 - accuracy: 0.9993\n",
      "Epoch 6/10\n",
      "7094/7094 [==============================] - 107s 15ms/step - loss: 0.0033 - accuracy: 0.9994\n",
      "Epoch 7/10\n",
      "7094/7094 [==============================] - 106s 15ms/step - loss: 0.0031 - accuracy: 0.9994\n",
      "Epoch 8/10\n",
      "7094/7094 [==============================] - 106s 15ms/step - loss: 0.0031 - accuracy: 0.9994\n",
      "Epoch 9/10\n",
      "7094/7094 [==============================] - 106s 15ms/step - loss: 0.0030 - accuracy: 0.9995\n",
      "Epoch 10/10\n",
      "7094/7094 [==============================] - 106s 15ms/step - loss: 0.0030 - accuracy: 0.9995\n",
      "1774/1774 [==============================] - 11s 6ms/step\n"
     ]
    },
    {
     "name": "stderr",
     "output_type": "stream",
     "text": [
      "2024/10/28 23:51:21 WARNING mlflow.tensorflow: You are saving a TensorFlow Core model or Keras model without a signature. Inference with mlflow.pyfunc.spark_udf() will not work unless the model's pyfunc representation accepts pandas DataFrames as inference inputs.\n",
      "WARNING:absl:Found untraced functions such as _update_step_xla, lstm_cell_3_layer_call_fn, lstm_cell_3_layer_call_and_return_conditional_losses while saving (showing 3 of 3). These functions will not be directly callable after loading.\n"
     ]
    },
    {
     "name": "stdout",
     "output_type": "stream",
     "text": [
      "INFO:tensorflow:Assets written to: C:\\Users\\HP\\AppData\\Local\\Temp\\tmpc1d8vhs8\\model\\data\\model\\assets\n"
     ]
    },
    {
     "name": "stderr",
     "output_type": "stream",
     "text": [
      "INFO:tensorflow:Assets written to: C:\\Users\\HP\\AppData\\Local\\Temp\\tmpc1d8vhs8\\model\\data\\model\\assets\n",
      "2024/10/28 23:51:32 WARNING mlflow.models.model: Model logged without a signature and input example. Please set `input_example` parameter when logging the model to auto infer the model signature.\n"
     ]
    }
   ],
   "source": [
    "# Run and save models on credit_data with 'Class' as the target variable\n",
    "print(\"Running models on Credit Card Data and saving them locally\")\n",
    "credit_results = model_trainer.run_all_models(credit_data, 'Class', save_local=True)"
   ]
  },
  {
   "cell_type": "code",
   "execution_count": 8,
   "metadata": {},
   "outputs": [
    {
     "name": "stdout",
     "output_type": "stream",
     "text": [
      "\n",
      "Credit Card Data Model Results:\n",
      "Logistic Regression: {'accuracy': 0.9991893701758714, 'precision': 0.8928571428571429, 'recall': 0.5555555555555556, 'f1_score': 0.684931506849315}\n",
      "Decision Tree: {'accuracy': 0.9989955239135798, 'precision': 0.6701030927835051, 'recall': 0.7222222222222222, 'f1_score': 0.6951871657754011}\n",
      "Random Forest: {'accuracy': 0.9995241955380115, 'precision': 0.9701492537313433, 'recall': 0.7222222222222222, 'f1_score': 0.8280254777070064}\n",
      "Gradient Boosting: {'accuracy': 0.9993127268882388, 'precision': 0.9047619047619048, 'recall': 0.6333333333333333, 'f1_score': 0.7450980392156863}\n",
      "MLP: {'accuracy': 0.9994184612131252, 'precision': 0.9523809523809523, 'recall': 0.6666666666666666, 'f1_score': 0.7843137254901961}\n",
      "CNN: {'accuracy': 0.9994713283755683, 'precision': 0.8658536585365854, 'recall': 0.7888888888888889, 'f1_score': 0.8255813953488372}\n",
      "RNN: {'accuracy': 0.9994184612131252, 'precision': 0.9672131147540983, 'recall': 0.6555555555555556, 'f1_score': 0.7814569536423841}\n",
      "LSTM: {'accuracy': 0.9994889507630493, 'precision': 0.9552238805970149, 'recall': 0.7111111111111111, 'f1_score': 0.8152866242038217}\n"
     ]
    }
   ],
   "source": [
    "\n",
    "# Print results for credit card data models\n",
    "print(\"\\nCredit Card Data Model Results:\")\n",
    "for model_name, metrics in credit_results.items():\n",
    "    print(f\"{model_name}: {metrics}\")"
   ]
  }
 ],
 "metadata": {
  "language_info": {
   "name": "python"
  }
 },
 "nbformat": 4,
 "nbformat_minor": 2
}
